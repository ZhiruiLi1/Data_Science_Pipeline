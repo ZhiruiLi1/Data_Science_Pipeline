{
 "cells": [
  {
   "attachments": {},
   "cell_type": "markdown",
   "id": "891ee364",
   "metadata": {},
   "source": [
    "## Problem set 3\n",
    "\n",
    "### Problem 0\n",
    "\n",
    "Run the cell below to make sure you are in the data1030 coding environment. \n",
    "\n",
    "We will deduct 2 points for every missing OK sign. (If you don't run the cell, that's -14 points.)\n"
   ]
  },
  {
   "cell_type": "code",
   "execution_count": 2,
   "id": "cbf77c7a",
   "metadata": {},
   "outputs": [
    {
     "name": "stdout",
     "output_type": "stream",
     "text": [
      "\u001b[42m[ OK ]\u001b[0m Python version is 3.11.5\n",
      "\n",
      "\u001b[42m[ OK ]\u001b[0m numpy version 1.24.4 is installed.\n",
      "\u001b[42m[ OK ]\u001b[0m matplotlib version 3.7.2 is installed.\n",
      "\u001b[42m[ OK ]\u001b[0m sklearn version 1.3.0 is installed.\n",
      "\u001b[42m[ OK ]\u001b[0m pandas version 2.0.3 is installed.\n",
      "\u001b[42m[ OK ]\u001b[0m xgboost version 1.7.6 is installed.\n"
     ]
    },
    {
     "name": "stderr",
     "output_type": "stream",
     "text": [
      "Using `tqdm.autonotebook.tqdm` in notebook mode. Use `tqdm.tqdm` instead to force console mode (e.g. in jupyter console)\n"
     ]
    },
    {
     "name": "stdout",
     "output_type": "stream",
     "text": [
      "\u001b[42m[ OK ]\u001b[0m shap version 0.42.1 is installed.\n",
      "\u001b[42m[ OK ]\u001b[0m seaborn version 0.12.2 is installed.\n"
     ]
    }
   ],
   "source": [
    "from __future__ import print_function\n",
    "from packaging.version import parse as Version\n",
    "from platform import python_version\n",
    "\n",
    "OK = '\\x1b[42m[ OK ]\\x1b[0m'\n",
    "FAIL = \"\\x1b[41m[FAIL]\\x1b[0m\"\n",
    "\n",
    "try:\n",
    "    import importlib\n",
    "except ImportError:\n",
    "    print(FAIL, \"Python version 3.11 is required,\"\n",
    "                \" but %s is installed.\" % sys.version)\n",
    "\n",
    "def import_version(pkg, min_ver, fail_msg=\"\"):\n",
    "    mod = None\n",
    "    try:\n",
    "        mod = importlib.import_module(pkg)\n",
    "        if pkg in {'PIL'}:\n",
    "            ver = mod.VERSION\n",
    "        else:\n",
    "            ver = mod.__version__\n",
    "        if Version(ver) == Version(min_ver):\n",
    "            print(OK, \"%s version %s is installed.\"\n",
    "                  % (lib, min_ver))\n",
    "        else:\n",
    "            print(FAIL, \"%s version %s is required, but %s installed.\"\n",
    "                  % (lib, min_ver, ver))    \n",
    "    except ImportError:\n",
    "        print(FAIL, '%s not installed. %s' % (pkg, fail_msg))\n",
    "    return mod\n",
    "\n",
    "\n",
    "# first check the python version\n",
    "pyversion = Version(python_version())\n",
    "\n",
    "if pyversion >= Version(\"3.11.4\"):\n",
    "    print(OK, \"Python version is %s\" % pyversion)\n",
    "elif pyversion < Version(\"3.11\"):\n",
    "    print(FAIL, \"Python version 3.11 is required,\"\n",
    "                \" but %s is installed.\" % pyversion)\n",
    "else:\n",
    "    print(FAIL, \"Unknown Python version: %s\" % pyversion)\n",
    "\n",
    "    \n",
    "print()\n",
    "requirements = {'numpy': \"1.24.4\", 'matplotlib': \"3.7.2\",'sklearn': \"1.3.0\", \n",
    "                'pandas': \"2.0.3\",'xgboost': \"1.7.6\", 'shap': \"0.42.1\", 'seaborn': \"0.12.2\"}\n",
    "\n",
    "# now the dependencies\n",
    "for lib, required_version in list(requirements.items()):\n",
    "    import_version(lib, required_version)"
   ]
  },
  {
   "attachments": {},
   "cell_type": "markdown",
   "id": "557cbb35",
   "metadata": {},
   "source": [
    "### Problem 1a, diabetes dataset EDA (10 points)\n",
    "\n",
    "We will work with the diabetes dataset in problem 1. Please carefully read the description [here](https://www4.stat.ncsu.edu/~boos/var.select/diabetes.html) and [here](https://scikit-learn.org/stable/datasets/toy_dataset.html#diabetes-dataset). Read the data into a pandas dataframe using the txt file linked [here](https://www4.stat.ncsu.edu/~boos/var.select/diabetes.tab.txt). Perform EDA by going through questions 1-4 from PS2 2a. \n",
    "\n",
    "Additionally, prepare two visualizations using column pairs. The two figures should be different types but one of the columns for both plots should be the target variable. Include a caption for each of the figures describing what the plot shows."
   ]
  },
  {
   "cell_type": "code",
   "execution_count": 3,
   "id": "daf33fdd",
   "metadata": {},
   "outputs": [
    {
     "name": "stdout",
     "output_type": "stream",
     "text": [
      "   AGE  SEX   BMI     BP   S1     S2    S3   S4      S5  S6    Y\n",
      "0   59    2  32.1  101.0  157   93.2  38.0  4.0  4.8598  87  151\n",
      "1   48    1  21.6   87.0  183  103.2  70.0  3.0  3.8918  69   75\n",
      "2   72    2  30.5   93.0  156   93.6  41.0  4.0  4.6728  85  141\n",
      "3   24    1  25.3   84.0  198  131.4  40.0  5.0  4.8903  89  206\n",
      "4   50    1  23.0  101.0  192  125.4  52.0  4.0  4.2905  80  135\n",
      "(442, 11)\n",
      "AGE      int64\n",
      "SEX      int64\n",
      "BMI    float64\n",
      "BP     float64\n",
      "S1       int64\n",
      "S2     float64\n",
      "S3     float64\n",
      "S4     float64\n",
      "S5     float64\n",
      "S6       int64\n",
      "Y        int64\n"
     ]
    }
   ],
   "source": [
    "# your code here\n",
    "import pandas as pd\n",
    "df = pd.read_csv(\"https://www4.stat.ncsu.edu/~boos/var.select/diabetes.tab.txt\", sep=\"\\t\")\n",
    "print(df.head())\n",
    "print(df.shape)\n",
    "print(df.dtypes.to_string())"
   ]
  },
  {
   "attachments": {},
   "cell_type": "markdown",
   "id": "562651d7",
   "metadata": {},
   "source": [
    "1. There are 78096 rows and 38 columns. \n",
    "2. Data type of each column is printed above. "
   ]
  },
  {
   "cell_type": "code",
   "execution_count": 4,
   "id": "f4bafa45",
   "metadata": {},
   "outputs": [
    {
     "name": "stdout",
     "output_type": "stream",
     "text": [
      "count    442.000000\n",
      "mean     152.133484\n",
      "std       77.093005\n",
      "min       25.000000\n",
      "25%       87.000000\n",
      "50%      140.500000\n",
      "75%      211.500000\n",
      "max      346.000000\n",
      "Name: Y, dtype: float64\n",
      "Y\n",
      "200    6\n",
      "72     6\n",
      "90     5\n",
      "178    5\n",
      "71     5\n",
      "      ..\n",
      "73     1\n",
      "222    1\n",
      "86     1\n",
      "79     1\n",
      "57     1\n",
      "Name: count, Length: 214, dtype: int64\n"
     ]
    }
   ],
   "source": [
    "print(df['Y'].describe())\n",
    "print(df['Y'].value_counts())"
   ]
  },
  {
   "attachments": {},
   "cell_type": "markdown",
   "id": "3d0f34de",
   "metadata": {},
   "source": [
    "The target variable 'Y' is continuous and has 214 different values of data type int64. "
   ]
  },
  {
   "cell_type": "code",
   "execution_count": 5,
   "id": "438834cf",
   "metadata": {},
   "outputs": [
    {
     "name": "stdout",
     "output_type": "stream",
     "text": [
      "21\n"
     ]
    },
    {
     "data": {
      "image/png": "[encoded data removed]",
      "text/plain": [
       "<Figure size 640x480 with 1 Axes>"
      ]
     },
     "metadata": {},
     "output_type": "display_data"
    }
   ],
   "source": [
    "import matplotlib.pyplot as plt\n",
    "import math \n",
    "\n",
    "value = math.floor(math.sqrt(len(df['Y']))) # a good bin value \n",
    "print(value)\n",
    "df['Y'].hist(bins=value, edgecolor='k', alpha=0.7)\n",
    "plt.title('Distribution of the Target Variable Y: Disease Progression One Year after Baseline')\n",
    "plt.xlabel('Disease Progression One Year after Baseline')\n",
    "plt.ylabel('Counts')\n",
    "plt.show()"
   ]
  },
  {
   "attachments": {},
   "cell_type": "markdown",
   "id": "e923dec1",
   "metadata": {},
   "source": [
    "# Two Additional Visualizations "
   ]
  },
  {
   "cell_type": "code",
   "execution_count": 6,
   "id": "21177d29",
   "metadata": {},
   "outputs": [
    {
     "data": {
      "image/png": "[encoded data removed]",
      "text/plain": [
       "<Figure size 640x480 with 1 Axes>"
      ]
     },
     "metadata": {},
     "output_type": "display_data"
    }
   ],
   "source": [
    "plt.scatter(df['AGE'], df['Y'], color='blue', marker='o')\n",
    "plt.title('Age VS. Disease Progression One Year after Baseline')\n",
    "plt.xlabel('Age')\n",
    "plt.ylabel('Disease Progression One Year after Baseline')\n",
    "plt.grid(True)\n",
    "plt.show()"
   ]
  },
  {
   "attachments": {},
   "cell_type": "markdown",
   "id": "2887b3e5",
   "metadata": {},
   "source": [
    "For the above scatter plot, we can see that there is no obvious correlation between 'Age' and the target variable 'Y'. "
   ]
  },
  {
   "cell_type": "code",
   "execution_count": 7,
   "id": "8f6541f0",
   "metadata": {},
   "outputs": [
    {
     "data": {
      "image/png": "[encoded data removed]",
      "text/plain": [
       "<Figure size 640x480 with 1 Axes>"
      ]
     },
     "metadata": {},
     "output_type": "display_data"
    }
   ],
   "source": [
    "df.boxplot(column='Y', by='SEX')\n",
    "plt.title('Box Plot of Disease Progression One Year after Baseline by Sex')\n",
    "plt.suptitle('') \n",
    "plt.xlabel('Sex')\n",
    "plt.ylabel('Disease Progression One Year after Baseline')\n",
    "plt.grid(True, axis='y')\n",
    "plt.show()"
   ]
  },
  {
   "attachments": {},
   "cell_type": "markdown",
   "id": "caf1311d",
   "metadata": {},
   "source": [
    "From the box plot, we can see that both male and female have almost the same disease progression level one year after baseline. "
   ]
  },
  {
   "attachments": {},
   "cell_type": "markdown",
   "id": "4798d435",
   "metadata": {},
   "source": [
    "### Problem 1b, basic split (10 points)\n",
    "\n",
    "Write a general function that performs basic splitting on a dataset, while also conducting integrity tests on both its inputs and outputs. Let's call the function basic_split. It takes the following arguments as inputs: feature matrix (X), a target variable (y), train_size, val_size, test_size, and random_state. The output of the function should be: X_train, y_train, X_val, y_val, X_test, y_test. \n",
    "\n",
    "Perform the following tests inside the function and raise a value error with a message if one or more of the tests fail.\n",
    "\n",
    "Test the inputs:\n",
    "- the sum of train_size, val_size, test_size is 1\n",
    "- random_state is an integer\n",
    "\n",
    "Use train_test_split.\n",
    "\n",
    "Test the outputs:\n",
    "- check that the output sizes are what you want them to be\n",
    "\n",
    "Note that in principle you could add more tests. For example:\n",
    "- test if X is a 2d pandas data frame\n",
    "- test if y is a 1d pandas series\n",
    "- check if the number of rows in X is the same as the length of y\n",
    "\n",
    "These tests are included in train_test_split, so we don't need to explicitly add them to our code. However, if you were to split your data manually without train_test_split, it would be a good idea to add these additional tests and potentially more.\n",
    "\n",
    "Apply the function to the diabetes dataset with train_size = 0.6, val_size = 0.2, and test_size = 0.2. Print out the head of X_train, X_val, and X_test. Make sure that you get the same points in each set every time you rerun the cell (a.k.a., check for reproducability).\n",
    "\n",
    "This function is general purpose, you'll be able to reuse it for any project if you want to perform basic split on your data."
   ]
  },
  {
   "cell_type": "code",
   "execution_count": 8,
   "id": "125d0d42",
   "metadata": {},
   "outputs": [
    {
     "name": "stdout",
     "output_type": "stream",
     "text": [
      "(442,)\n",
      "(442, 10)\n"
     ]
    }
   ],
   "source": [
    "y = df['Y'] \n",
    "X = df.loc[:, df.columns != 'Y']\n",
    "print(y.shape)\n",
    "print(X.shape)"
   ]
  },
  {
   "cell_type": "code",
   "execution_count": 9,
   "id": "500c54d6",
   "metadata": {},
   "outputs": [
    {
     "name": "stdout",
     "output_type": "stream",
     "text": [
      "(265, 10)\n",
      "(265,)\n",
      "(88, 10)\n",
      "(88,)\n",
      "(89, 10)\n",
      "(89,)\n",
      "     AGE  SEX   BMI      BP   S1     S2    S3    S4      S5  S6\n",
      "22    25    1  26.0   92.00  187  120.4  56.0  3.00  3.9703  88\n",
      "173   31    2  19.0   93.00  137   73.0  47.0  3.00  4.4427  78\n",
      "346   50    2  28.0  104.00  282  196.8  44.0  6.00  5.3279  95\n",
      "370   54    1  21.0   78.00  188  107.4  70.0  3.00  3.9703  73\n",
      "237   64    1  20.0   74.67  189  114.8  62.0  3.05  4.1109  91\n",
      "     AGE  SEX   BMI      BP   S1     S2    S3   S4      S5   S6\n",
      "107   56    1  31.0   78.67  187  141.4  34.0  5.5  4.0604   90\n",
      "366   36    2  39.1   90.00  219  135.8  38.0  6.0  5.4205  103\n",
      "59    66    2  24.0   98.00  236  146.4  58.0  4.0  5.0626   96\n",
      "240   62    2  33.3  114.00  182  114.0  38.0  5.0  5.0106   96\n",
      "333   56    2  25.8  103.00  177  114.4  34.0  5.0  4.9628   99\n",
      "     AGE  SEX   BMI      BP   S1     S2    S3    S4      S5   S6\n",
      "374   19    1  23.2   75.00  143   70.4  52.0  3.00  4.6347   72\n",
      "420   55    1  23.0   94.67  190  137.6  38.0  5.00  4.2767  106\n",
      "200   64    1  21.0   92.33  227  146.8  65.0  3.49  4.3307  102\n",
      "29    67    2  25.8  113.00  158   54.2  64.0  2.00  5.2933  104\n",
      "35    62    2  23.5   80.33  225  112.8  86.0  2.62  4.8752   96\n"
     ]
    }
   ],
   "source": [
    "import pandas as pd\n",
    "import numpy as np\n",
    "from sklearn.model_selection import train_test_split \n",
    "\n",
    "# your code here\n",
    "def basic_split(X, y, train_size, val_size, test_size, random_state):\n",
    "\n",
    "    if not isinstance(random_state, int):\n",
    "        raise ValueError(\"random_state should be an integer.\")\n",
    "        \n",
    "    if not (train_size + val_size + test_size) == 1:\n",
    "        raise ValueError(\"The sum of train_size, val_size, and test_size should be 1.\")\n",
    "    \n",
    "    X_train, X_other, y_train, y_other = train_test_split(X, y, \\\n",
    "                    train_size = train_size, random_state = random_state) \n",
    "    \n",
    "    X_val, X_test, y_val, y_test = train_test_split(X_other, y_other, \\\n",
    "                    train_size = val_size/(1-train_size),random_state = random_state)\n",
    "    \n",
    "    # Output Tests\n",
    "    # Allow for a tolerance of 1 of mismatch\n",
    "\n",
    "    tolerance = 1\n",
    "\n",
    "    if abs(len(X_train) - round(train_size * len(X))) > tolerance:\n",
    "        print(f\"Actual train size: {len(X_train)}, Expected train size: {round(train_size * len(X))}\")\n",
    "        raise ValueError(\"Mismatch in expected size for training data.\")\n",
    "        \n",
    "    if abs(len(X_val) - round(val_size * len(X))) > tolerance:\n",
    "        print(f\"Actual val size: {len(X_val)}, Expected val size: {round(val_size * len(X))}\")\n",
    "        raise ValueError(\"Mismatch in expected size for validation data.\")\n",
    "        \n",
    "    if abs(len(X_test) - round(test_size * len(X))) > tolerance:\n",
    "        print(f\"Actual test size: {len(X_test)}, Expected test size: {round(test_size * len(X))}\")\n",
    "        raise ValueError(\"Mismatch in expected size for test data.\")\n",
    "    \n",
    "    return X_train, y_train, X_val, y_val, X_test, y_test\n",
    "    \n",
    "# check for reproducability\n",
    "X_train, y_train, X_val, y_val, X_test, y_test = basic_split(X, y, train_size=0.6, val_size=0.2, test_size=0.2, random_state=123)\n",
    "print(X_train.shape)\n",
    "print(y_train.shape)\n",
    "print(X_val.shape)\n",
    "print(y_val.shape)\n",
    "print(X_test.shape)\n",
    "print(y_test.shape)\n",
    "print(X_train.head())\n",
    "print(X_val.head())\n",
    "print(X_test.head())"
   ]
  },
  {
   "attachments": {},
   "cell_type": "markdown",
   "id": "ed066deb",
   "metadata": {},
   "source": [
    "**Q1b Check:** Is your function reproducible? How do you know? (1 point)"
   ]
  },
  {
   "attachments": {},
   "cell_type": "markdown",
   "id": "eade2f10",
   "metadata": {},
   "source": []
  },
  {
   "attachments": {},
   "cell_type": "markdown",
   "id": "14732921",
   "metadata": {},
   "source": [
    "### Problem 1c, stratified regression (5 points)\n",
    "\n",
    "I mentioned in class that sklearn's splitting methods can only stratify with respect to a classification target variable. However you might encounter scenarios where it is necessary to stratify on a regression target variable. For example, it is a good idea to stratify if the distribution of the regression target variable is heavy-tailed (e.g., exponential, log-normal). If you do not stratify, some of your sets might not contain rare values from the heavy tail thus throwing off the regression model.\n",
    "\n",
    "Either come up with an algorithm to stratify with respect to a regression target variable and write [pseudocode](https://en.wikipedia.org/wiki/Pseudocode) in a markdown cell below to explain the steps of the alrogithm; or do some reading online and write a paragraph or two to explain already existing algorithms/approaches to solve the problem and add your references."
   ]
  },
  {
   "cell_type": "code",
   "execution_count": 10,
   "id": "d9b75219",
   "metadata": {},
   "outputs": [
    {
     "ename": "SyntaxError",
     "evalue": "invalid syntax (1060349520.py, line 2)",
     "output_type": "error",
     "traceback": [
      "\u001b[0;36m  Cell \u001b[0;32mIn[10], line 2\u001b[0;36m\u001b[0m\n\u001b[0;31m    Function StratifiedSplitForRegression(X, y, num_bins):\u001b[0m\n\u001b[0m             ^\u001b[0m\n\u001b[0;31mSyntaxError\u001b[0m\u001b[0;31m:\u001b[0m invalid syntax\n"
     ]
    }
   ],
   "source": [
    "# your code here\n",
    "Function StratifiedSplitForRegression(X, y, num_bins):\n",
    "# first converting the continuous target variable into discrete bins and then treating these bins similarly to classes in a classification problem for stratification purposes\n",
    "\n",
    "    1. Bin the continuous target variable 'y' into 'num_bins' categories. \n",
    "       - This can be done using quantiles to ensure each bin has roughly the same number of samples.\n",
    "       # For example, if num_bins is 4, this might divide the data into quartiles.\n",
    "       - Convert these bins into labels (0, 1, 2,..., num_bins-1).\n",
    "    \n",
    "    2. For each bin label:\n",
    "       a. Split the data from that bin into training, validation, and test sets, maintaining proportions.\n",
    "       b. Store these splits separately.\n",
    "      # temporarily treat the regression problem as a classification problem by binning the continuous target variable into discrete categories\n",
    "      # Once binned, we can utilize the stratification techniques typically applied in classification problems to ensure each bin (or category) \n",
    "      # is represented proportionally in our train, validation, and test sets\n",
    "       \n",
    "    3. Combine the training sets from all bins to create the final training set.\n",
    "       Do the same for validation and test sets.\n",
    "       \n",
    "    4. Shuffle the final training, validation, and test sets to ensure randomness.\n",
    "    \n",
    "    5. Return the split datasets.\n",
    "\n",
    "End Function"
   ]
  },
  {
   "attachments": {},
   "cell_type": "markdown",
   "id": "1ded0881",
   "metadata": {},
   "source": [
    "### Problem 2\n",
    "\n",
    "We will work with the [hand postures dataset](https://archive.ics.uci.edu/ml/datasets/Motion+Capture+Hand+Postures) in problem 2. Please carefully read the dataset description and perform as much EDA as you can on this dataset. The EDA is not graded but it will help you to correctly answer 2a and 2b.\n",
    "\n",
    "This dataset has group structure: 14 users performing 5 different hand postures while wearing sensors attached to a left-handed glove. Two different ML questions can be asked using this dataset. We will explore how splitting differs for both questions in 2a and 2b.\n",
    "\n",
    "**A note on splitting non-IID data:** The Independent and Identically Distributed (IID) assumption asserts two foundational premises: (1) the values of one datapoint (i.e. row) in our dataset have no impact on the values of another datapoint, and (2) all of the datapoints come from the same distribution. When this assumption holds, we can perform basic splitting techniques as explored above, since the make-up of our training, validation, and test sets will be independent of one another. However, many ML problems involve using data that does not conform to the IID assumption, such as data with a group or time-series structure. When your dataset has a group structure, datapoints from one group may be drawn from a different distribution than datapoints from another group. Furthermore, the datapoints in a time-series dataset have some correlation with one another, and therefore the values of one point may implicitly hint at the values of another. This raises the issue of data leakage; the model can train on data that unfairly gives it an advantage when predicting the values in its test set. For instance, if you are trying to predict the price of a stock, and the model trains on share price data from 2023, it will have undue insight when trying to predict the price in 2022. A general rule of thumb is that your model should not train on data that it would not have available when deployed. Therefore, you can use 2022 stock price data (in your train set) to predict 2023 values (in your test set), but not the other way around. These splitting strategies are specific to every dataset and ML problem. When designing a new pipeline with a non-IID dataset, think about how your model will be deployed in order to inform the splitting stratedgy you use to train and test it.  "
   ]
  },
  {
   "cell_type": "code",
   "execution_count": 11,
   "id": "764cc90f",
   "metadata": {},
   "outputs": [
    {
     "name": "stdout",
     "output_type": "stream",
     "text": [
      "   Class  User         X0         Y0         Z0         X1         Y1  \\\n",
      "0      1     0  54.263880  71.466776 -64.807709  76.895635  42.462500   \n",
      "1      1     0  56.527558  72.266609 -61.935252  39.135978  82.538530   \n",
      "2      1     0  55.849928  72.469064 -62.562788  37.988804  82.631347   \n",
      "3      1     0  55.329647  71.707275 -63.688956  36.561863  81.868749   \n",
      "4      1     0  55.142401  71.435607 -64.177303  36.175818  81.556874   \n",
      "\n",
      "          Z1         X2         Y2  ...  Z8 X9 Y9 Z9 X10 Y10 Z10 X11 Y11 Z11  \n",
      "0 -72.780545  36.621229  81.680557  ...   ?  ?  ?  ?   ?   ?   ?   ?   ?   ?  \n",
      "1 -49.596509  79.223743  43.254091  ...   ?  ?  ?  ?   ?   ?   ?   ?   ?   ?  \n",
      "2 -50.606259  78.451526  43.567403  ...   ?  ?  ?  ?   ?   ?   ?   ?   ?   ?  \n",
      "3 -52.752784  86.320630  68.214645  ...   ?  ?  ?  ?   ?   ?   ?   ?   ?   ?  \n",
      "4 -53.475747  76.986143  42.426849  ...   ?  ?  ?  ?   ?   ?   ?   ?   ?   ?  \n",
      "\n",
      "[5 rows x 38 columns]\n",
      "Class      int64\n",
      "User       int64\n",
      "X0       float64\n",
      "Y0       float64\n",
      "Z0       float64\n",
      "X1       float64\n",
      "Y1       float64\n",
      "Z1       float64\n",
      "X2       float64\n",
      "Y2       float64\n",
      "Z2       float64\n",
      "X3        object\n",
      "Y3        object\n",
      "Z3        object\n",
      "X4        object\n",
      "Y4        object\n",
      "Z4        object\n",
      "X5        object\n",
      "Y5        object\n",
      "Z5        object\n",
      "X6        object\n",
      "Y6        object\n",
      "Z6        object\n",
      "X7        object\n",
      "Y7        object\n",
      "Z7        object\n",
      "X8        object\n",
      "Y8        object\n",
      "Z8        object\n",
      "X9        object\n",
      "Y9        object\n",
      "Z9        object\n",
      "X10       object\n",
      "Y10       object\n",
      "Z10       object\n",
      "X11       object\n",
      "Y11       object\n",
      "Z11       object\n",
      "dtype: object\n"
     ]
    }
   ],
   "source": [
    "# your code here\n",
    "df2 = pd.read_csv(\"data/Postures.csv\", skiprows=[1]) # the second row of the df is useless \n",
    "print(df2.head())\n",
    "print(df2.dtypes)"
   ]
  },
  {
   "attachments": {},
   "cell_type": "markdown",
   "id": "a0fe287f",
   "metadata": {},
   "source": [
    "### Problem 2a (10 points)\n",
    "\n",
    "How would you split the dataset if we wanted to know how accurately we can predict the hand postures of a new, previously unseen user? What's the target variable? Write down your reasoning (the usual 1-2 paragraphs are fine). Split the dataset into training, validation, and test sets. As usual, check for reproducability!"
   ]
  },
  {
   "attachments": {},
   "cell_type": "markdown",
   "id": "c2517fa4",
   "metadata": {},
   "source": [
    "Add your explanation here:"
   ]
  },
  {
   "attachments": {},
   "cell_type": "markdown",
   "id": "fb80ab6b",
   "metadata": {},
   "source": [
    "When predicting hand postures for previously unseen users, it's crucial to ensure our dataset splits are based on user IDs. This means that all data entries for a particular user should reside entirely within one of the training, validation, or test sets, and not be scattered across them. By doing this, we ensure that the model truly learns to generalize across different users rather than potentially memorizing specific data points. More importantly, it prevents data leakage – the scenario where our model gets inadvertently exposed to information from the validation or test sets during the training phase. In our context, data leakage would occur if the model were trained on some data points from a user and then validated or tested on other data points from the same user, leading to overly optimistic performance metrics. Thus, the target variable should be 'Class' and the group id should be 'User'."
   ]
  },
  {
   "cell_type": "code",
   "execution_count": 81,
   "id": "4b2be45f",
   "metadata": {},
   "outputs": [],
   "source": [
    "df2.replace(\"?\", np.nan, inplace=True)"
   ]
  },
  {
   "cell_type": "code",
   "execution_count": 16,
   "id": "8aeb5d53",
   "metadata": {},
   "outputs": [
    {
     "name": "stdout",
     "output_type": "stream",
     "text": [
      "User\n",
      "10    9573\n",
      "0     9048\n",
      "13    8739\n",
      "11    8061\n",
      "14    7495\n",
      "8     6811\n",
      "5     5105\n",
      "12    4865\n",
      "1     4717\n",
      "2     4513\n",
      "6     4377\n",
      "9     3920\n",
      "7      492\n",
      "4      379\n",
      "Name: count, dtype: int64\n",
      "Class\n",
      "3    16344\n",
      "1    16265\n",
      "5    15733\n",
      "2    14978\n",
      "4    14775\n",
      "Name: count, dtype: int64\n"
     ]
    }
   ],
   "source": [
    "print(df2['User'].value_counts())\n",
    "print(df2['Class'].value_counts())"
   ]
  },
  {
   "cell_type": "code",
   "execution_count": 85,
   "id": "d4a62185",
   "metadata": {},
   "outputs": [
    {
     "name": "stdout",
     "output_type": "stream",
     "text": [
      "All Group ID:  [ 0  1  2  4  5  6  7  8  9 10 11 12 13 14]\n",
      "Train:  [ 1  2  4  7  9 12 13 14]\n",
      "Validation:  [ 0  6 11]\n",
      "Test:  [ 5  8 10]\n",
      "(35120, 36)\n",
      "(35120,)\n",
      "(21486, 36)\n",
      "(21486,)\n",
      "(21489, 36)\n",
      "(21489,)\n"
     ]
    }
   ],
   "source": [
    "from sklearn.model_selection import GroupShuffleSplit\n",
    "\n",
    "def group_split(df, group, target, train_size, val_size, test_size, random_state):\n",
    "\n",
    "    if not isinstance(random_state, int):\n",
    "        raise ValueError(\"random_state should be an integer.\")\n",
    "        \n",
    "    if not (train_size + val_size + test_size) == 1:\n",
    "        raise ValueError(\"The sum of train_size, val_size, and test_size should be 1.\")\n",
    "    \n",
    "    \n",
    "    y = df[target] \n",
    "    X = df.loc[:, ~df2.columns.isin([group, target])]\n",
    "    # ~: bitwise negation operator\n",
    "    # .isin(): return true or false for all the columns     \n",
    "    group_id = df[group]\n",
    "    print(\"All Group ID: \", np.unique(group_id))\n",
    "    X = X.reset_index(drop=True)\n",
    "    y = y.reset_index(drop=True)\n",
    "    group_id = group_id.reset_index(drop=True)\n",
    "    \n",
    "    gss_train_other = GroupShuffleSplit(n_splits=1, train_size=train_size, random_state=random_state)\n",
    "    \n",
    "    for train_idx, other_idx in gss_train_other.split(X, y, group_id):\n",
    "        print(\"Train: \", np.unique(group_id[train_idx]))\n",
    "        X_train, y_train = X.iloc[train_idx], y.iloc[train_idx]\n",
    "        X_other, y_other = X.iloc[other_idx], y.iloc[other_idx]\n",
    "        groups_other = group_id.iloc[other_idx]\n",
    "\n",
    "        gss_val_test = GroupShuffleSplit(n_splits=1, train_size=val_size/(1-train_size), random_state=random_state)\n",
    "        \n",
    "        val_idx, test_idx = next(gss_val_test.split(X_other, y_other, groups_other))\n",
    "        # using next() to retrieve the only available test-valid split indicies because n_splits = 1\n",
    "\n",
    "        print(\"Validation: \", np.unique(group_id.iloc[other_idx].iloc[val_idx]))\n",
    "        print(\"Test: \", np.unique(group_id.iloc[other_idx].iloc[test_idx]))\n",
    "\n",
    "        X_val, y_val = X_other.iloc[val_idx], y_other.iloc[val_idx]\n",
    "        X_test, y_test = X_other.iloc[test_idx], y_other.iloc[test_idx]\n",
    "        \n",
    "    return X_train, y_train, X_val, y_val, X_test, y_test\n",
    "\n",
    "# check for reproducability\n",
    "X_train, y_train, X_val, y_val, X_test, y_test = group_split(df = df2, group = 'User', target = 'Class', train_size=0.6, val_size=0.2, test_size = 0.2, random_state=123)\n",
    "print(X_train.shape)\n",
    "print(y_train.shape)\n",
    "print(X_val.shape)\n",
    "print(y_val.shape)\n",
    "print(X_test.shape)\n",
    "print(y_test.shape)\n"
   ]
  },
  {
   "cell_type": "code",
   "execution_count": 71,
   "id": "6dc64d89",
   "metadata": {},
   "outputs": [
    {
     "name": "stdout",
     "output_type": "stream",
     "text": [
      "             X0         Y0         Z0         X1         Y1         Z1  \\\n",
      "9048  29.699315  86.235155 -50.412865  10.640074  84.263077 -44.484302   \n",
      "9049  29.744358  85.954124 -50.094668  10.739796  84.043944 -44.134900   \n",
      "9050  29.713936  85.950764 -49.606704  10.628119  84.095152 -43.928478   \n",
      "9051  29.712018  85.967603 -49.239333  10.550590  84.123348 -43.922002   \n",
      "9052  30.430470  85.626083 -48.860555  10.997782  84.049843 -44.259520   \n",
      "\n",
      "             X2         Y2         Z2                 X3  ...   Z8   X9   Y9  \\\n",
      "9048  53.356216  82.914148 -56.303507  -9.86911086476828  ...  NaN  NaN  NaN   \n",
      "9049  53.374626  82.571797 -56.079537   -9.7513038021681  ...  NaN  NaN  NaN   \n",
      "9050  53.496711  82.573430 -55.385723  -9.72992363477156  ...  NaN  NaN  NaN   \n",
      "9051  53.672679  82.547662 -54.838168  -9.71090353983821  ...  NaN  NaN  NaN   \n",
      "9052  54.588424  82.366638 -53.937869  -11.1472635090107  ...  NaN  NaN  NaN   \n",
      "\n",
      "       Z9  X10  Y10  Z10  X11  Y11  Z11  \n",
      "9048  NaN  NaN  NaN  NaN  NaN  NaN  NaN  \n",
      "9049  NaN  NaN  NaN  NaN  NaN  NaN  NaN  \n",
      "9050  NaN  NaN  NaN  NaN  NaN  NaN  NaN  \n",
      "9051  NaN  NaN  NaN  NaN  NaN  NaN  NaN  \n",
      "9052  NaN  NaN  NaN  NaN  NaN  NaN  NaN  \n",
      "\n",
      "[5 rows x 36 columns]\n",
      "9048    1\n",
      "9049    1\n",
      "9050    1\n",
      "9051    1\n",
      "9052    1\n",
      "Name: Class, dtype: int64\n",
      "          X0         Y0         Z0         X1         Y1         Z1  \\\n",
      "0  54.263880  71.466776 -64.807709  76.895635  42.462500 -72.780545   \n",
      "1  56.527558  72.266609 -61.935252  39.135978  82.538530 -49.596509   \n",
      "2  55.849928  72.469064 -62.562788  37.988804  82.631347 -50.606259   \n",
      "3  55.329647  71.707275 -63.688956  36.561863  81.868749 -52.752784   \n",
      "4  55.142401  71.435607 -64.177303  36.175818  81.556874 -53.475747   \n",
      "\n",
      "          X2         Y2         Z2                X3  ...   Z8   X9   Y9   Z9  \\\n",
      "0  36.621229  81.680557 -52.919272  85.2322638852917  ...  NaN  NaN  NaN  NaN   \n",
      "1  79.223743  43.254091 -69.982489  87.4508729469625  ...  NaN  NaN  NaN  NaN   \n",
      "2  78.451526  43.567403 -70.658489  86.8353875680762  ...  NaN  NaN  NaN  NaN   \n",
      "3  86.320630  68.214645 -72.228461  61.5961571288978  ...  NaN  NaN  NaN  NaN   \n",
      "4  76.986143  42.426849 -72.574743  86.3687480605765  ...  NaN  NaN  NaN  NaN   \n",
      "\n",
      "   X10  Y10  Z10  X11  Y11  Z11  \n",
      "0  NaN  NaN  NaN  NaN  NaN  NaN  \n",
      "1  NaN  NaN  NaN  NaN  NaN  NaN  \n",
      "2  NaN  NaN  NaN  NaN  NaN  NaN  \n",
      "3  NaN  NaN  NaN  NaN  NaN  NaN  \n",
      "4  NaN  NaN  NaN  NaN  NaN  NaN  \n",
      "\n",
      "[5 rows x 36 columns]\n",
      "0    1\n",
      "1    1\n",
      "2    1\n",
      "3    1\n",
      "4    1\n",
      "Name: Class, dtype: int64\n",
      "              X0          Y0        Z0         X1          Y1         Z1  \\\n",
      "18657  36.050687  100.689502  7.715604  14.226006  104.521329  19.483379   \n",
      "18658  51.350805   95.963137 -9.977121  14.118195  104.569605  19.379245   \n",
      "18659  36.638775  100.510315  8.590194  51.315149   95.964454 -10.306479   \n",
      "18660  36.747573  100.446439  8.838612  13.966385  104.630372  18.776182   \n",
      "18661  37.089797  100.406314  9.647367  14.060993  104.563911  19.069947   \n",
      "\n",
      "              X2          Y2         Z2                 X3  ...   Z8   X9  \\\n",
      "18657  53.529667   74.261990 -17.056496  -19.8389638682152  ...  NaN  NaN   \n",
      "18658 -19.804240   85.384321  30.947130     36.40605527644  ...  NaN  NaN   \n",
      "18659  14.006150  104.649137  18.795937  -5.76171053887786  ...  NaN  NaN   \n",
      "18660  -5.919969   97.510902  24.220013   51.3387027040414  ...  NaN  NaN   \n",
      "18661  -5.721127   97.436075  24.853873   51.6364824574396  ...  NaN  NaN   \n",
      "\n",
      "        Y9   Z9  X10  Y10  Z10  X11  Y11  Z11  \n",
      "18657  NaN  NaN  NaN  NaN  NaN  NaN  NaN  NaN  \n",
      "18658  NaN  NaN  NaN  NaN  NaN  NaN  NaN  NaN  \n",
      "18659  NaN  NaN  NaN  NaN  NaN  NaN  NaN  NaN  \n",
      "18660  NaN  NaN  NaN  NaN  NaN  NaN  NaN  NaN  \n",
      "18661  NaN  NaN  NaN  NaN  NaN  NaN  NaN  NaN  \n",
      "\n",
      "[5 rows x 36 columns]\n",
      "18657    1\n",
      "18658    1\n",
      "18659    1\n",
      "18660    1\n",
      "18661    1\n",
      "Name: Class, dtype: int64\n"
     ]
    }
   ],
   "source": [
    "print(X_train.head())\n",
    "print(y_train.head())\n",
    "print(X_val.head())\n",
    "print(y_val.head())\n",
    "print(X_test.head())\n",
    "print(y_test.head())"
   ]
  },
  {
   "attachments": {},
   "cell_type": "markdown",
   "id": "e08339c1",
   "metadata": {},
   "source": [
    "### Problem 2b (10 points)\n",
    "\n",
    "How would you split the data if we wanted to identify a user based on their hand postures? What's the target variable? Follow the same steps as in 2a (explain your reasoning, split, check reproducability)."
   ]
  },
  {
   "attachments": {},
   "cell_type": "markdown",
   "id": "a07e56a2",
   "metadata": {},
   "source": [
    "Add your explanation here:\n"
   ]
  },
  {
   "attachments": {},
   "cell_type": "markdown",
   "id": "ce88c52a",
   "metadata": {},
   "source": [
    "To identify a user based on their hand postures, we set the target variable to 'User' and use 'Class' as the group id. This ensures that all data for a specific hand posture is either in the training, validation, or test set, but not spread across them. This setup prevents data leakage and ensures our model genuinely learns to recognize users based on distinct hand posture patterns, giving us more reliable performance metrics."
   ]
  },
  {
   "cell_type": "code",
   "execution_count": 73,
   "id": "ecca699a",
   "metadata": {},
   "outputs": [],
   "source": [
    "df2 = pd.read_csv(\"data/Postures.csv\", skiprows=[1]) # the second row of the df is useless \n",
    "df2.replace(\"?\", np.nan, inplace=True)"
   ]
  },
  {
   "cell_type": "code",
   "execution_count": 88,
   "id": "69a5574d",
   "metadata": {},
   "outputs": [
    {
     "name": "stdout",
     "output_type": "stream",
     "text": [
      "All Group ID:  [1 2 3 4 5]\n",
      "Train:  [1 3 5]\n",
      "Validation:  [2]\n",
      "Test:  [4]\n",
      "(48342, 36)\n",
      "(48342,)\n",
      "(14978, 36)\n",
      "(14978,)\n",
      "(14775, 36)\n",
      "(14775,)\n"
     ]
    }
   ],
   "source": [
    "# check for reproducability\n",
    "X_train, y_train, X_val, y_val, X_test, y_test = group_split(df = df2, group = 'Class', target = 'User', train_size=0.6, val_size=0.2, test_size = 0.2, random_state=123)\n",
    "\n",
    "print(X_train.shape)\n",
    "print(y_train.shape)\n",
    "print(X_val.shape)\n",
    "print(y_val.shape)\n",
    "print(X_test.shape)\n",
    "print(y_test.shape)"
   ]
  },
  {
   "cell_type": "code",
   "execution_count": 89,
   "id": "fdf21074",
   "metadata": {},
   "outputs": [
    {
     "name": "stdout",
     "output_type": "stream",
     "text": [
      "          X0         Y0         Z0         X1         Y1         Z1  \\\n",
      "0  54.263880  71.466776 -64.807709  76.895635  42.462500 -72.780545   \n",
      "1  56.527558  72.266609 -61.935252  39.135978  82.538530 -49.596509   \n",
      "2  55.849928  72.469064 -62.562788  37.988804  82.631347 -50.606259   \n",
      "3  55.329647  71.707275 -63.688956  36.561863  81.868749 -52.752784   \n",
      "4  55.142401  71.435607 -64.177303  36.175818  81.556874 -53.475747   \n",
      "\n",
      "          X2         Y2         Z2                X3  ...   Z8   X9   Y9   Z9  \\\n",
      "0  36.621229  81.680557 -52.919272  85.2322638852917  ...  NaN  NaN  NaN  NaN   \n",
      "1  79.223743  43.254091 -69.982489  87.4508729469625  ...  NaN  NaN  NaN  NaN   \n",
      "2  78.451526  43.567403 -70.658489  86.8353875680762  ...  NaN  NaN  NaN  NaN   \n",
      "3  86.320630  68.214645 -72.228461  61.5961571288978  ...  NaN  NaN  NaN  NaN   \n",
      "4  76.986143  42.426849 -72.574743  86.3687480605765  ...  NaN  NaN  NaN  NaN   \n",
      "\n",
      "   X10  Y10  Z10  X11  Y11  Z11  \n",
      "0  NaN  NaN  NaN  NaN  NaN  NaN  \n",
      "1  NaN  NaN  NaN  NaN  NaN  NaN  \n",
      "2  NaN  NaN  NaN  NaN  NaN  NaN  \n",
      "3  NaN  NaN  NaN  NaN  NaN  NaN  \n",
      "4  NaN  NaN  NaN  NaN  NaN  NaN  \n",
      "\n",
      "[5 rows x 36 columns]\n",
      "0    0\n",
      "1    0\n",
      "2    0\n",
      "3    0\n",
      "4    0\n",
      "Name: User, dtype: int64\n",
      "             X0         Y0         Z0         X1          Y1         Z1  \\\n",
      "1872  63.554969  98.490988  11.165920  49.159831  154.330730  32.004168   \n",
      "1873  80.873812  93.722537  -4.988816  63.572103   98.476638  11.242908   \n",
      "1874  80.775150  93.705283  -5.090904  63.479609   98.429524  11.161413   \n",
      "1875  80.618164  93.781461  -5.012812  63.213130   98.462919  11.045095   \n",
      "1876  79.870413  93.921192  -5.628231  79.239570   55.197852 -72.374008   \n",
      "\n",
      "             X2          Y2         Z2                X3  ...  \\\n",
      "1872  92.793124  137.143202   1.064904  80.8548704978587  ...   \n",
      "1873  49.142700  154.347050  32.076937  95.2119733344582  ...   \n",
      "1874  48.924111  154.340338  31.885853  79.4009525948364  ...   \n",
      "1875  48.777435  154.327283  32.060452  79.4261804650225  ...   \n",
      "1876  48.446947  154.215388  32.298167  62.6339749550998  ...   \n",
      "\n",
      "                     Z8                X9                Y9  \\\n",
      "1872  -72.4622851172395  20.7300997560106  132.858511745119   \n",
      "1873   16.7184032041115  79.2060450757627  54.7366806396915   \n",
      "1874   30.4914361644636   35.414671333463  99.6930110094474   \n",
      "1875   35.8360723613668  58.2066132024663  27.7342294894763   \n",
      "1876    36.134338579331  93.1188264935228  137.151230490898   \n",
      "\n",
      "                     Z9               X10               Y10               Z10  \\\n",
      "1872   35.5012870218578  35.4906561489632  99.7256760026507  22.6901857263241   \n",
      "1873  -72.4281602990496  13.0238615267003  95.0833057800089  30.1735579072564   \n",
      "1874   22.7270895273296  83.5663024020198  151.704825559408  16.3345519273518   \n",
      "1875  -71.9662633570171  13.2915609232479  95.0172278532442  30.6580617756696   \n",
      "1876   2.45108561700727  12.9630869318333  94.8824134758151  30.5525762830332   \n",
      "\n",
      "      X11  Y11  Z11  \n",
      "1872  NaN  NaN  NaN  \n",
      "1873  NaN  NaN  NaN  \n",
      "1874  NaN  NaN  NaN  \n",
      "1875  NaN  NaN  NaN  \n",
      "1876  NaN  NaN  NaN  \n",
      "\n",
      "[5 rows x 36 columns]\n",
      "1872    0\n",
      "1873    0\n",
      "1874    0\n",
      "1875    0\n",
      "1876    0\n",
      "Name: User, dtype: int64\n",
      "             X0         Y0         Z0         X1          Y1         Z1  \\\n",
      "5224  65.239490  83.085992 -46.213736  51.855493  135.408448 -69.876265   \n",
      "5225  -7.415363  70.950040 -50.341087  52.008040  135.333630 -69.983664   \n",
      "5226  -3.596302  68.068262 -53.952567  56.667566  132.601060 -78.109749   \n",
      "5227  -4.148966  66.952388 -55.221959  68.721998   81.581294 -51.550700   \n",
      "5228  -5.240204  65.590795 -56.564337  57.218893  131.608184 -80.019960   \n",
      "\n",
      "             X2          Y2         Z2                 X3  ...   Z8   X9   Y9  \\\n",
      "5224  42.176343   25.332000 -75.697410  -7.13620643136008  ...  NaN  NaN  NaN   \n",
      "5225  72.116395  126.939085 -58.962251   45.0482339976966  ...  NaN  NaN  NaN   \n",
      "5226  69.287267   82.370643 -50.460330   74.9249944171196  ...  NaN  NaN  NaN   \n",
      "5227  74.689071  123.926049 -69.167363   56.8653699489717  ...  NaN  NaN  NaN   \n",
      "5228  68.051067   80.737496 -52.462850   73.3042301573426  ...  NaN  NaN  NaN   \n",
      "\n",
      "       Z9  X10  Y10  Z10  X11  Y11  Z11  \n",
      "5224  NaN  NaN  NaN  NaN  NaN  NaN  NaN  \n",
      "5225  NaN  NaN  NaN  NaN  NaN  NaN  NaN  \n",
      "5226  NaN  NaN  NaN  NaN  NaN  NaN  NaN  \n",
      "5227  NaN  NaN  NaN  NaN  NaN  NaN  NaN  \n",
      "5228  NaN  NaN  NaN  NaN  NaN  NaN  NaN  \n",
      "\n",
      "[5 rows x 36 columns]\n",
      "5224    0\n",
      "5225    0\n",
      "5226    0\n",
      "5227    0\n",
      "5228    0\n",
      "Name: User, dtype: int64\n"
     ]
    }
   ],
   "source": [
    "print(X_train.head())\n",
    "print(y_train.head())\n",
    "print(X_val.head())\n",
    "print(y_val.head())\n",
    "print(X_test.head())\n",
    "print(y_test.head())"
   ]
  }
 ],
 "metadata": {
  "kernelspec": {
   "display_name": "Python 3 (ipykernel)",
   "language": "python",
   "name": "python3"
  },
  "language_info": {
   "codemirror_mode": {
    "name": "ipython",
    "version": 3
   },
   "file_extension": ".py",
   "mimetype": "text/x-python",
   "name": "python",
   "nbconvert_exporter": "python",
   "pygments_lexer": "ipython3",
   "version": "3.11.5"
  }
 },
 "nbformat": 4,
 "nbformat_minor": 5
}
