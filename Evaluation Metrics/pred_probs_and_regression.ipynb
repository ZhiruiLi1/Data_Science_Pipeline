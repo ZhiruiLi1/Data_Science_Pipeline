{
 "cells": [
  {
   "attachments": {},
   "cell_type": "markdown",
   "metadata": {},
   "source": [
    "# Announcements\n",
    "- midterms are next week!\n",
    "    - sign up for a presentation!\n",
    "    - PS5 will be released today, two week submission deadline to help with the midterm project\n",
    "    - Guest lecturer next Thursday\n",
    "- problem sets will change in scope and goals\n"
   ]
  },
  {
   "attachments": {},
   "cell_type": "markdown",
   "metadata": {},
   "source": [
    "# Mudcard\n",
    "- **how is this related to the datasets that we use for our projects?**\n",
    "    - you will train several ML models using your project dataset so you'll need to choose an evaluation metric\n",
    "- **I'm just wondering why we don't use Pearson correlation to calculate the linear correlation. Is it positively correlated to F-test?**\n",
    "    - the pearson correlation coefficient can only be calculated between two continuous variables\n",
    "    - if your target variable or the feature is categorical, it shouldn't be used\n",
    "    - the f test is more general\n",
    "- **how do we determine p_critical?**\n",
    "    - you will see in the next problem set\n",
    "    - you choose an evaluation metric (e.g., accuracy), you loop through various p_crit values, and you select the p_crit which maximizes accuracy\n",
    "- **\"When using a real dataset in and trying to find the best evaluation metric through the confusion matrix, how to we find the y_pred that was utilized throughout the python coding? In the examples in class, the y_pred was provided but I am not sure how to do that in real data examples.**\n",
    "    - after you train an ML model, you can use it to generate predictions\n",
    "    - we will put together our first ML pipeline in a week and I hope everything we covered so far will fall into place then\n",
    "- **what is imbalanced dataset?**\n",
    "    - a classification dataset in which most of the data points belong to one class\n",
    "    - e.g., fraud detection in credit card transactions is imbalanced because 99.9% of transactions are not fraudulant, and only 0.1% of transactions are"
   ]
  },
  {
   "attachments": {},
   "cell_type": "markdown",
   "metadata": {
    "slideshow": {
     "slide_type": "slide"
    }
   },
   "source": [
    "## Evaluation metrics in supervised ML, part 2, predicted probabilities and regression metrics\n",
    "\n",
    "By the end of this lecture, you will be able to\n",
    "- Summarize the ROC and precision-recall curves, and the logloss metric\n",
    "- Describe the most commonly used regression metrics\n"
   ]
  },
  {
   "attachments": {},
   "cell_type": "markdown",
   "metadata": {
    "slideshow": {
     "slide_type": "slide"
    }
   },
   "source": [
    "## <font color='LIGHTGRAY'> Evaluation metrics in supervised ML, part 2, predicted probabilities and regression</font>\n",
    "\n",
    "<font color='LIGHTGRAY'>By the end of this lecture, you will be able to</font>\n",
    "- **Summarize the ROC and precision-recall curves, and the logloss metric**\n",
    "- <font color='LIGHTGRAY'>Describe the most commonly used regression metrics</font>\n"
   ]
  },
  {
   "attachments": {},
   "cell_type": "markdown",
   "metadata": {
    "slideshow": {
     "slide_type": "slide"
    }
   },
   "source": [
    "### The ROC curve\n",
    "- Receiver Operating Characteristic\n",
    "   - x axis: false positive rate (fpr = FP / (FP + TN))\n",
    "   - y axis: true positive rate (R = TP / (TP + FN))\n",
    "   - the curve shows fpr and R value pairs for various class 1 critical probabilities\n",
    "- upper left corner: perfect predictor\n",
    "- diagonal point: chance level predictions\n",
    "- lower right corner: worst predictor"
   ]
  },
  {
   "cell_type": "code",
   "execution_count": 1,
   "metadata": {
    "slideshow": {
     "slide_type": "subslide"
    }
   },
   "outputs": [],
   "source": [
    "import pandas as pd\n",
    "import matplotlib.pyplot as plt\n",
    "import numpy as np\n",
    "from sklearn.metrics import confusion_matrix\n",
    "df = pd.read_csv('data/true_labels_pred_probs.csv')\n",
    "\n",
    "y_true = df['y_true']\n",
    "pred_prob_class1 = df['pred_prob_class1']\n",
    "pred_prob_class0 = df['pred_prob_class0']\n",
    "\n",
    "fpr = np.zeros(len(y_true))\n",
    "tpr = np.zeros(len(y_true))\n",
    "\n",
    "p_crits = np.sort(pred_prob_class1) # the sorted predicted probabilities serve as critical probabilities\n",
    "\n",
    "for i in range(len(p_crits)):\n",
    "    p_crit = p_crits[i]\n",
    "    \n",
    "    y_pred = np.zeros(len(y_true))\n",
    "    y_pred[pred_prob_class1 <= p_crit] = 0\n",
    "    y_pred[pred_prob_class1 > p_crit] = 1\n",
    "    \n",
    "    C = confusion_matrix(y_true,y_pred) \n",
    "    \n",
    "    tpr[i] = C[1,1]/(C[1,0]+C[1,1])\n",
    "    fpr[i] = C[0,1]/(C[0,0]+C[0,1])\n",
    "\n",
    "from sklearn.metrics import roc_curve\n",
    "# # the roc_curve function performs the same calculation\n",
    "fpr,tpr,p_crits = roc_curve(y_true,pred_prob_class1)\n"
   ]
  },
  {
   "cell_type": "code",
   "execution_count": 2,
   "metadata": {
    "slideshow": {
     "slide_type": "subslide"
    }
   },
   "outputs": [
    {
     "data": {
      "image/png": "[encoded data removed]",
      "text/plain": [
       "<Figure size 500x300 with 1 Axes>"
      ]
     },
     "metadata": {},
     "output_type": "display_data"
    }
   ],
   "source": [
    "plt.figure(figsize=(5,3))\n",
    "plt.plot(fpr,tpr)\n",
    "plt.xlabel('fpr')\n",
    "plt.ylabel('tpr')\n",
    "plt.title('ROC curve')\n",
    "plt.show()"
   ]
  },
  {
   "attachments": {},
   "cell_type": "markdown",
   "metadata": {
    "slideshow": {
     "slide_type": "slide"
    }
   },
   "source": [
    "## Quiz 1\n",
    "What's the (fpr,tpr) coordinate on the ROC curve if p_crit = 1?"
   ]
  },
  {
   "attachments": {},
   "cell_type": "markdown",
   "metadata": {
    "slideshow": {
     "slide_type": "slide"
    }
   },
   "source": [
    "## ROC AUC\n",
    "- ROC is useful but it is not a single number metric\n",
    "   - it cannot be directly used to compare various classification models\n",
    "- summary statistics based on the ROC curve (for a complete list, see [here](https://en.wikipedia.org/wiki/Receiver_operating_characteristic#Further_interpretations))\n",
    "- most commonly used metric is ROC AUC - ROC Area Under the Curve\n",
    "   - AUC = 1 is a perfect classifier\n",
    "   - AUC > 0.5 is above chance-level predictor\n",
    "   - AUC = 0.5 is a chance-level classifier\n",
    "   - AUC < 0.5 is a bad predictor\n",
    "   - AUC = 0 classifies all points incorrectly"
   ]
  },
  {
   "cell_type": "code",
   "execution_count": 3,
   "metadata": {},
   "outputs": [
    {
     "name": "stdout",
     "output_type": "stream",
     "text": [
      "0.9236524315231854\n"
     ]
    }
   ],
   "source": [
    "from sklearn.metrics import roc_auc_score\n",
    "print(roc_auc_score(y_true,pred_prob_class1))"
   ]
  },
  {
   "attachments": {},
   "cell_type": "markdown",
   "metadata": {
    "slideshow": {
     "slide_type": "slide"
    }
   },
   "source": [
    "## Precision-recall curve\n",
    "- the drawback of ROC is that it uses TN, not good for imbalanced problems.\n",
    "- the precision-recall curve doesn't use TN, ideal for imbalanced problems."
   ]
  },
  {
   "cell_type": "code",
   "execution_count": 4,
   "metadata": {},
   "outputs": [
    {
     "name": "stdout",
     "output_type": "stream",
     "text": [
      "0.9315588971251672\n"
     ]
    }
   ],
   "source": [
    "from sklearn.metrics import precision_recall_curve\n",
    "from sklearn.metrics import average_precision_score # the AUC of the P-R curve\n",
    "\n",
    "p,r,p_crits = precision_recall_curve(y_true,pred_prob_class1)\n",
    "\n",
    "print(average_precision_score(y_true,pred_prob_class1))"
   ]
  },
  {
   "cell_type": "code",
   "execution_count": 5,
   "metadata": {
    "slideshow": {
     "slide_type": "subslide"
    }
   },
   "outputs": [
    {
     "data": {
      "image/png": "[encoded data removed]",
      "text/plain": [
       "<Figure size 500x300 with 1 Axes>"
      ]
     },
     "metadata": {},
     "output_type": "display_data"
    }
   ],
   "source": [
    "plt.figure(figsize=(5,3))\n",
    "plt.plot(p,r)\n",
    "plt.xlabel('precision')\n",
    "plt.ylabel('recall')\n",
    "plt.title('P-R curve')\n",
    "plt.show()\n"
   ]
  },
  {
   "attachments": {},
   "cell_type": "markdown",
   "metadata": {
    "slideshow": {
     "slide_type": "slide"
    }
   },
   "source": [
    "## Quiz 2\n",
    "What's the (p,r) coordinate on the curve if p_crit = 0?"
   ]
  },
  {
   "attachments": {},
   "cell_type": "markdown",
   "metadata": {
    "slideshow": {
     "slide_type": "slide"
    }
   },
   "source": [
    "## The logloss metric\n",
    "\n",
    "### <center>$logloss = - \\frac{1}{m}\\sum_{i=0}^{m-1} (y_{i, true}\\ln(p_{i, pred}) + (1-y_{i, true})\\ln(1-p_{i, pred}))$</center>\n",
    "- $p_{pred}$ is the predicted probability of the **positive class**\n",
    "- the predicted probabilities are not converted into predicted classes\n",
    "- excellent choice if you need accurate probabilities (e.g., when it is expensive/costly to act due to limited resources so you need to rank your points based on probabilities)\n",
    "- two scenarios:\n",
    "   - y_true = 0 - left term disappears\n",
    "   - y_true = 1 - right term disappears\n",
    "- log(0) is undefined\n",
    "   - $p_{pred}$ is replaced with $\\max(\\min(p,1-10^{-15}),10^{-15})$ to avoid this issue"
   ]
  },
  {
   "attachments": {},
   "cell_type": "markdown",
   "metadata": {
    "slideshow": {
     "slide_type": "subslide"
    }
   },
   "source": [
    "### The extreme cases\n",
    "- the classifier is confidently wrong\n",
    "   - $p_{pred} = 10^{-15}$ for points in class 1\n",
    "   - $p_{pred} = 1 - 10^{-15}$ for points in class 0\n",
    "<center>$logloss = -\\frac{1}{m}\\sum \\ln(10^{-15}) = -\\ln(10^{-15})$</center>\n",
    "<center> $logloss \\sim  34.5  $</center>\n",
    "\n",
    "- the classifier is correct\n",
    "   - $p_{pred} = 10^{-15}$ for points in class 0\n",
    "   - $p_{pred} = 1 - 10^{-15}$ for points in class 1\n",
    "<center>$logloss = -\\frac{1}{m}\\sum (1-0)(1-\\ln(1-10^{-15})) = 10^{-15}$ for class 0</center>\n",
    "<center>$logloss = -\\frac{1}{m}\\sum 1*\\ln(1-10^{-15}) = 10^{-15}$ for class 1</center>\n",
    "<center>$logloss \\sim 0$</center>\n",
    "\n"
   ]
  },
  {
   "cell_type": "code",
   "execution_count": 6,
   "metadata": {
    "slideshow": {
     "slide_type": "subslide"
    }
   },
   "outputs": [
    {
     "name": "stdout",
     "output_type": "stream",
     "text": [
      "0.3501519054532857\n",
      "Help on function log_loss in module sklearn.metrics._classification:\n",
      "\n",
      "log_loss(y_true, y_pred, *, eps='auto', normalize=True, sample_weight=None, labels=None)\n",
      "    Log loss, aka logistic loss or cross-entropy loss.\n",
      "    \n",
      "    This is the loss function used in (multinomial) logistic regression\n",
      "    and extensions of it such as neural networks, defined as the negative\n",
      "    log-likelihood of a logistic model that returns ``y_pred`` probabilities\n",
      "    for its training data ``y_true``.\n",
      "    The log loss is only defined for two or more labels.\n",
      "    For a single sample with true label :math:`y \\in \\{0,1\\}` and\n",
      "    a probability estimate :math:`p = \\operatorname{Pr}(y = 1)`, the log\n",
      "    loss is:\n",
      "    \n",
      "    .. math::\n",
      "        L_{\\log}(y, p) = -(y \\log (p) + (1 - y) \\log (1 - p))\n",
      "    \n",
      "    Read more in the :ref:`User Guide <log_loss>`.\n",
      "    \n",
      "    Parameters\n",
      "    ----------\n",
      "    y_true : array-like or label indicator matrix\n",
      "        Ground truth (correct) labels for n_samples samples.\n",
      "    \n",
      "    y_pred : array-like of float, shape = (n_samples, n_classes) or (n_samples,)\n",
      "        Predicted probabilities, as returned by a classifier's\n",
      "        predict_proba method. If ``y_pred.shape = (n_samples,)``\n",
      "        the probabilities provided are assumed to be that of the\n",
      "        positive class. The labels in ``y_pred`` are assumed to be\n",
      "        ordered alphabetically, as done by\n",
      "        :class:`preprocessing.LabelBinarizer`.\n",
      "    \n",
      "    eps : float or \"auto\", default=\"auto\"\n",
      "        Log loss is undefined for p=0 or p=1, so probabilities are\n",
      "        clipped to `max(eps, min(1 - eps, p))`. The default will depend on the\n",
      "        data type of `y_pred` and is set to `np.finfo(y_pred.dtype).eps`.\n",
      "    \n",
      "        .. versionadded:: 1.2\n",
      "    \n",
      "        .. versionchanged:: 1.2\n",
      "           The default value changed from `1e-15` to `\"auto\"` that is\n",
      "           equivalent to `np.finfo(y_pred.dtype).eps`.\n",
      "    \n",
      "        .. deprecated:: 1.3\n",
      "           `eps` is deprecated in 1.3 and will be removed in 1.5.\n",
      "    \n",
      "    normalize : bool, default=True\n",
      "        If true, return the mean loss per sample.\n",
      "        Otherwise, return the sum of the per-sample losses.\n",
      "    \n",
      "    sample_weight : array-like of shape (n_samples,), default=None\n",
      "        Sample weights.\n",
      "    \n",
      "    labels : array-like, default=None\n",
      "        If not provided, labels will be inferred from y_true. If ``labels``\n",
      "        is ``None`` and ``y_pred`` has shape (n_samples,) the labels are\n",
      "        assumed to be binary and are inferred from ``y_true``.\n",
      "    \n",
      "        .. versionadded:: 0.18\n",
      "    \n",
      "    Returns\n",
      "    -------\n",
      "    loss : float\n",
      "        Log loss, aka logistic loss or cross-entropy loss.\n",
      "    \n",
      "    Notes\n",
      "    -----\n",
      "    The logarithm used is the natural logarithm (base-e).\n",
      "    \n",
      "    References\n",
      "    ----------\n",
      "    C.M. Bishop (2006). Pattern Recognition and Machine Learning. Springer,\n",
      "    p. 209.\n",
      "    \n",
      "    Examples\n",
      "    --------\n",
      "    >>> from sklearn.metrics import log_loss\n",
      "    >>> log_loss([\"spam\", \"ham\", \"ham\", \"spam\"],\n",
      "    ...          [[.1, .9], [.9, .1], [.8, .2], [.35, .65]])\n",
      "    0.21616...\n",
      "\n"
     ]
    }
   ],
   "source": [
    "from sklearn.metrics import log_loss\n",
    "print(log_loss(y_true,pred_prob_class1))\n",
    "help(log_loss)"
   ]
  },
  {
   "attachments": {},
   "cell_type": "markdown",
   "metadata": {
    "slideshow": {
     "slide_type": "slide"
    }
   },
   "source": [
    "## <font color='LIGHTGRAY'> Evaluation metrics in supervised ML, part 2, predicted probabilities and regression</font>\n",
    "\n",
    "<font color='LIGHTGRAY'>By the end of this lecture, you will be able to</font>\n",
    "- <font color='LIGHTGRAY'>Summarize the ROC and precision-recall curves, and the logloss metric</font>\n",
    "- **Describe the most commonly used regression metrics**\n"
   ]
  },
  {
   "attachments": {},
   "cell_type": "markdown",
   "metadata": {
    "slideshow": {
     "slide_type": "subslide"
    }
   },
   "source": [
    "## Regression metrics\n",
    "- the target variable is continuous\n",
    "- the predicted values are also continuous\n",
    "- regression metrics measure some type of difference between y (true values) and y' (predicted values)"
   ]
  },
  {
   "attachments": {},
   "cell_type": "markdown",
   "metadata": {
    "slideshow": {
     "slide_type": "subslide"
    }
   },
   "source": [
    "### Mean Squared Error \n",
    "\n",
    "### <center>$MSE(y,y') = \\frac{1}{m}\\sum_{i=1}^{m}(y_i-y_i')^2$</center>\n",
    "\n",
    "<center><img src=\"figures/polifit_1.jpg\" width=\"450\"></center>\n",
    "\n",
    "#### The unit of MSE is not the same as the target variable."
   ]
  },
  {
   "attachments": {},
   "cell_type": "markdown",
   "metadata": {
    "slideshow": {
     "slide_type": "subslide"
    }
   },
   "source": [
    "### Root Mean Square Error\n",
    "\n",
    "### <center>$RMSE(y,y') = \\sqrt{\\frac{1}{m}\\sum_{i=1}^{m}(y_i-y_i')^2}$</center>\n",
    "\n",
    "\n",
    "### Mean Absolute Error\n",
    "\n",
    "### <center>$MAE(y,y') = \\frac{1}{m}\\sum_{i=1}^{m}|y_i-y_i'|$</center>\n",
    "\n",
    "#### Both RMSE and MAE have the same unit as the target variable.\n"
   ]
  },
  {
   "attachments": {},
   "cell_type": "markdown",
   "metadata": {
    "slideshow": {
     "slide_type": "subslide"
    }
   },
   "source": [
    "## R2 score - coefficient of determination\n",
    "\n",
    "### <center>$R^2(y,y') = 1 - \\frac{\\sum_{i=1}^{m}(y_i-y_i')^2}{\\sum_{i=1}^{m}(y_i-\\bar{y})^2}$,</center>\n",
    "<center>where $\\bar{y}$ is the mean of $y$.</center>\n",
    "\n",
    "- R2 = 1 is the perfect regression model ($y == y'$)\n",
    "- R2 = 0 is as good as a constant model that always predicts the expected value of y ($\\bar{y}$)\n",
    "- R2 < 0 is a bad regression model\n",
    "\n",
    "#### R2 is dimensionless."
   ]
  },
  {
   "cell_type": "code",
   "execution_count": 8,
   "metadata": {
    "slideshow": {
     "slide_type": "subslide"
    }
   },
   "outputs": [
    {
     "name": "stdout",
     "output_type": "stream",
     "text": [
      "Help on function mean_squared_error in module sklearn.metrics._regression:\n",
      "\n",
      "mean_squared_error(y_true, y_pred, *, sample_weight=None, multioutput='uniform_average', squared=True)\n",
      "    Mean squared error regression loss.\n",
      "    \n",
      "    Read more in the :ref:`User Guide <mean_squared_error>`.\n",
      "    \n",
      "    Parameters\n",
      "    ----------\n",
      "    y_true : array-like of shape (n_samples,) or (n_samples, n_outputs)\n",
      "        Ground truth (correct) target values.\n",
      "    \n",
      "    y_pred : array-like of shape (n_samples,) or (n_samples, n_outputs)\n",
      "        Estimated target values.\n",
      "    \n",
      "    sample_weight : array-like of shape (n_samples,), default=None\n",
      "        Sample weights.\n",
      "    \n",
      "    multioutput : {'raw_values', 'uniform_average'} or array-like of shape             (n_outputs,), default='uniform_average'\n",
      "        Defines aggregating of multiple output values.\n",
      "        Array-like value defines weights used to average errors.\n",
      "    \n",
      "        'raw_values' :\n",
      "            Returns a full set of errors in case of multioutput input.\n",
      "    \n",
      "        'uniform_average' :\n",
      "            Errors of all outputs are averaged with uniform weight.\n",
      "    \n",
      "    squared : bool, default=True\n",
      "        If True returns MSE value, if False returns RMSE value.\n",
      "    \n",
      "    Returns\n",
      "    -------\n",
      "    loss : float or ndarray of floats\n",
      "        A non-negative floating point value (the best value is 0.0), or an\n",
      "        array of floating point values, one for each individual target.\n",
      "    \n",
      "    Examples\n",
      "    --------\n",
      "    >>> from sklearn.metrics import mean_squared_error\n",
      "    >>> y_true = [3, -0.5, 2, 7]\n",
      "    >>> y_pred = [2.5, 0.0, 2, 8]\n",
      "    >>> mean_squared_error(y_true, y_pred)\n",
      "    0.375\n",
      "    >>> y_true = [3, -0.5, 2, 7]\n",
      "    >>> y_pred = [2.5, 0.0, 2, 8]\n",
      "    >>> mean_squared_error(y_true, y_pred, squared=False)\n",
      "    0.612...\n",
      "    >>> y_true = [[0.5, 1],[-1, 1],[7, -6]]\n",
      "    >>> y_pred = [[0, 2],[-1, 2],[8, -5]]\n",
      "    >>> mean_squared_error(y_true, y_pred)\n",
      "    0.708...\n",
      "    >>> mean_squared_error(y_true, y_pred, squared=False)\n",
      "    0.822...\n",
      "    >>> mean_squared_error(y_true, y_pred, multioutput='raw_values')\n",
      "    array([0.41666667, 1.        ])\n",
      "    >>> mean_squared_error(y_true, y_pred, multioutput=[0.3, 0.7])\n",
      "    0.825...\n",
      "\n"
     ]
    }
   ],
   "source": [
    "from sklearn.metrics import mean_squared_error\n",
    "from sklearn.metrics import mean_absolute_error\n",
    "from sklearn.metrics import r2_score\n",
    "help(mean_squared_error)\n"
   ]
  },
  {
   "attachments": {},
   "cell_type": "markdown",
   "metadata": {
    "slideshow": {
     "slide_type": "-"
    }
   },
   "source": [
    "- RMSE is not implemented in sklearn, but you can calculate it as `np.sqrt(mean_squared_error(y_true,y_pred))`\n",
    "- you can find more on regression metrics [here](https://scikit-learn.org/stable/modules/model_evaluation.html#regression-metrics)"
   ]
  },
  {
   "attachments": {},
   "cell_type": "markdown",
   "metadata": {
    "slideshow": {
     "slide_type": "slide"
    }
   },
   "source": [
    "## Quiz 3\n",
    "Read in `data/reg_preds.csv`. It contains two columns: \n",
    "\n",
    "- y_true: value of owner-occupied homes in $1000's in Boston\n",
    "- y_pred: predictions of a regression model\n",
    "\n",
    "What's the ratio between the MSE and the variance of the home values? How does this ratio relate to the R2 score?"
   ]
  },
  {
   "cell_type": "code",
   "execution_count": null,
   "metadata": {},
   "outputs": [],
   "source": []
  },
  {
   "attachments": {},
   "cell_type": "markdown",
   "metadata": {},
   "source": [
    "## Mudcard"
   ]
  }
 ],
 "metadata": {
  "celltoolbar": "Slideshow",
  "kernelspec": {
   "display_name": "Python 3 (ipykernel)",
   "language": "python",
   "name": "python3"
  },
  "language_info": {
   "codemirror_mode": {
    "name": "ipython",
    "version": 3
   },
   "file_extension": ".py",
   "mimetype": "text/x-python",
   "name": "python",
   "nbconvert_exporter": "python",
   "pygments_lexer": "ipython3",
   "version": "3.11.5"
  }
 },
 "nbformat": 4,
 "nbformat_minor": 4
}
