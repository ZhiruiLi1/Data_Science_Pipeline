{
 "cells": [
  {
   "attachments": {},
   "cell_type": "markdown",
   "id": "a4baade3",
   "metadata": {},
   "source": [
    "# Mudcard\n",
    "- **Can we use the validation set for multiple times? What's the difference between the validation set and the test set?**\n",
    "    - yes, you will use the validation set as many times as the training set because each model you train needs to be validated\n",
    "    - in contrast, you only use the test set once at the very end of the ML pipeline once you found THE best model and you want to know how it performs on previously unseen data (generalization error)\n",
    "- **I would like some more clarification on how Stratified Folds work, especially when it is combined with a KFold. Do we only use this strategy on imbalanced data?**\n",
    "    - read the manuals on the sklearn website and check out the examples too.\n",
    "    - stratification is only necessary when you work on an imbalanced classification problem\n",
    "- **How do you classify and perform splits on imbalanced data that is continuous/non-categorical?**\n",
    "    - you do not :)\n",
    "    - if your target variable is continuous, that's a regression problem not a classification problem\n",
    "    - you can plot the distribution of a continuous target variable and you might see that the distribution has a long tail\n",
    "    - it will be one of the questions in the next problem set to figure out what you can do in that case\n",
    "- **\"what are classes and how are they different from the splitting of the data into training, testing, and validation**\n",
    "    - in classification, your target variable is categorical, you have a small number of distinct classes to predict\n",
    "    - for example: does the patient has cancer? Yes - class 1, No - class 0.\n",
    "    - you split your whole dataset (feature matrix X and target variable y) when you do splitting\n",
    "    - very different terms and this is basic stuff in ML so definitely read more about it or rewatch the lecture\n",
    "- **When it comes to imbalanced data, some people also apply oversampling or undersampling techniques (e.g., SMOTE) on data, which I've been confused for years. Could you cover a little bit more about this in following lectures?**\n",
    "    - yes, we will cover oversampling and undersampling towards the end of the term\n",
    "    - I'm presonally not a big fan of these techniques and I'll explain why\n",
    "- **why was random_state was set as 4 and 2 for stratified examples**\n",
    "    - good catch! :)\n",
    "    - when I set random state to those numbers, one of the sets won't have points from the minority class :) this doesn't happen with all random states!\n",
    "    - try a bunch of random states and see what happens\n",
    "- **How can we update our github automatically so the notes are in our folders when they are updated to the github classroom?**\n",
    "    - check on Ed Discussion, someone asked this already and the TAs replied\n",
    "- **I did not understand how you interpreted this: y = [0,0,0,2,2,0,0,2,0,1]. Can you explain this again?**\n",
    "    - y is a target variable\n",
    "    - there are ten points and three class labels (0, 1, 2)\n",
    "    - you had to count how many points belong to class 0, class 1, and class 2\n",
    "- **I do not feel confident with the k-fold method. I understood the diagram and how it was being split, but once we got to the code itself, the mechanics of the for loop threw me off. Additionally, I know we will visit the specifics later in the class, but I was having a hard time conceptualizing how the individual splits would be combined to create a single model.**\n",
    "    - play around with the kfold code, add print statements, change arguments, etc\n",
    "    - also read the sklearn manual and the examples provided on the sklearn website "
   ]
  },
  {
   "attachments": {},
   "cell_type": "markdown",
   "id": "0fdf32c2",
   "metadata": {},
   "source": [
    "# Split non-iid data\n",
    "By the end of this lecture, you will be able to\n",
    "- split non-iid data based on group ID\n",
    "- split non-iid time series data\n"
   ]
  },
  {
   "attachments": {},
   "cell_type": "markdown",
   "id": "842a0073",
   "metadata": {},
   "source": [
    "## The supervised ML pipeline\n",
    "The goal: Use the training data (X and y) to develop a <font color='red'>model</font> which can <font color='red'>accurately</font> predict the target variable (y_new') for previously unseen data (X_new).\n",
    "\n",
    "**1. Exploratory Data Analysis (EDA)**: you need to understand your data and verify that it doesn't contain errors\n",
    "   - do as much EDA as you can!\n",
    "    \n",
    "<span style=\"background-color: #FFFF00\">**2. Split the data into different sets**: most often the sets are train, validation, and test (or holdout)</span>\n",
    "   - practitioners often make errors in this step!\n",
    "   - you can split the data randomly, based on groups, based on time, or any other non-standard way if necessary to answer your ML question\n",
    "\n",
    "**3. Preprocess the data**: ML models only work if X and Y are numbers! Some ML models additionally require each feature to have 0 mean and 1 standard deviation (standardized features)\n",
    "   - often the original features you get contain strings (for example a gender feature would contain 'male', 'female', 'non-binary', 'unknown') which needs to transformed into numbers\n",
    "   - often the features are not standardized (e.g., age is between 0 and 100) but it needs to be standardized\n",
    "    \n",
    "**4. Choose an evaluation metric**: depends on the priorities of the stakeholders\n",
    "   - often requires quite a bit of thinking and ethical considerations\n",
    "     \n",
    "**5. Choose one or more ML techniques**: it is highly recommended that you try multiple models\n",
    "   - start with simple models like linear or logistic regression\n",
    "   - try also more complex models like nearest neighbors, support vector machines, random forest, etc.\n",
    "    \n",
    "**6. Tune the hyperparameters of your ML models (aka cross-validation)**\n",
    "   - ML techniques have hyperparameters that you need to optimize to achieve best performance\n",
    "   - for each ML model, decide which parameters to tune and what values to try\n",
    "   - loop through each parameter combination\n",
    "       - train one model for each parameter combination\n",
    "       - evaluate how well the model performs on the validation set\n",
    "   - take the parameter combo that gives the best validation score\n",
    "   - evaluate that model on the test set to report how well the model is expected to perform on previously unseen data\n",
    "    \n",
    "**7. Interpret your model**: black boxes are often not useful\n",
    "   - check if your model uses features that make sense (excellent tool for debugging)\n",
    "   - often model predictions are not enough, you need to be able to explain how the model arrived to a particular prediction (e.g., in health care)"
   ]
  },
  {
   "attachments": {},
   "cell_type": "markdown",
   "id": "b043a34a",
   "metadata": {},
   "source": [
    "## Examples of non-iid data\n",
    "- if there is any sort of time or group structure in your data, it is likely non-iid\n",
    "    - **group structure:**\n",
    "        - **samples are not identically distributed, $D$ might be different for each group**\n",
    "        - a person appears multiple times in the dataset (e.g., hospital/doctor visits)\n",
    "        - data is collected on multiple instrucments (e.g., equipment failure prediction)\n",
    "    - **time series data**\n",
    "        - **values are not independent**\n",
    "        - stocks price\n",
    "        - covid19 cases\n",
    "        - weather data\n",
    "        "
   ]
  },
  {
   "attachments": {},
   "cell_type": "markdown",
   "id": "44303494",
   "metadata": {},
   "source": [
    "## Ask yourself these questions!\n",
    "- What is the intended use of the model? What is it supposed to do/predict?\n",
    "- What data do you have available at the time of prediction?\n",
    "- Your split must mimic the intended use of the model only then will you accurately estimate how well the model will perform on previously unseen points (generalization error).\n",
    "- two examples:\n",
    "    - if you want to predict the outcome of a new patient's visit to the ER:\n",
    "        - your test score must be based on patients not included in training and validation\n",
    "        - your validation score must be based on patients not included in training\n",
    "        - points of one patient should not be distributed over multiple sets because your generalization error will be off\n",
    "    - a youtube video was released 4 weeks ago and you want to predict if it will be featured a week from now, your training data should only contain info that will available upon predictions (stuff you know 4 weeks after release)\n",
    "        - split data based on youtube vid ID\n",
    "        - use info that's available 4 weeks after release\n",
    "        - your classification label will be whether it was featured or not 5 weeks after release"
   ]
  },
  {
   "attachments": {},
   "cell_type": "markdown",
   "id": "5ae6f944",
   "metadata": {},
   "source": [
    "# <font color='lightgray'>Split non-iid data</font>\n",
    "<font color='lightgray'>By the end of this lecture, you will be able to</font>\n",
    "- **split non-iid data based on group ID**\n",
    "- <font color='lightgray'>split non-iid time series data</font>\n"
   ]
  },
  {
   "attachments": {},
   "cell_type": "markdown",
   "id": "67393755",
   "metadata": {
    "slideshow": {
     "slide_type": "slide"
    }
   },
   "source": [
    "# An example: seizure project\n",
    "- you can read the publication [here](https://ieeexplore.ieee.org/document/8857552)\n",
    "- classification problem:\n",
    "   - epileptic seizures vs. non-epileptic psychogenic seizures\n",
    "- data from empatica wrist sensor\n",
    "   - heart rate, skin temperature, EDA, blood volume pressure, acceleration\n",
    "- data collection:\n",
    "   - patients come to the hospital for a few days\n",
    "   - eeg and video recording to determine seizure type\n",
    "   - wrist sensor data is collected\n",
    "- question:\n",
    "   - Can we use the wrist sensor data to differentiate the two seizure types on new patients?"
   ]
  },
  {
   "cell_type": "code",
   "execution_count": 2,
   "id": "d2c394f8",
   "metadata": {
    "slideshow": {
     "slide_type": "subslide"
    }
   },
   "outputs": [
    {
     "name": "stdout",
     "output_type": "stream",
     "text": [
      "    patient ID            seizure_ID  ACC_mean  BVP_mean  EDA_mean    HR_mean  \\\n",
      "5           32  ID32__day3_arm_1_sz1  1.028539 -0.092102  0.112795  64.748167   \n",
      "6           32  ID32__day3_arm_1_sz1  1.027986  0.745437  0.130486  63.715667   \n",
      "7           32  ID32__day2_arm_1_sz0  1.002146  0.150810  0.189272  61.838500   \n",
      "8           32  ID32__day2_arm_1_sz0  1.005410  0.482859  1.226038  66.240833   \n",
      "9           32  ID32__day1_arm_1_sz0  0.997017 -0.925122  0.200990  56.103667   \n",
      "10          32  ID32__day1_arm_1_sz0  1.009207  1.618456  1.679754  64.668167   \n",
      "27          32  ID32__day1_arm_1_sz0  1.000290  0.046690  0.123165  54.289500   \n",
      "28          32  ID32__day1_arm_1_sz0  1.010351  0.125039  0.471180  65.060667   \n",
      "29          32  ID32__day2_arm_1_sz0  1.018163  0.254302  0.206010  61.875833   \n",
      "30          32  ID32__day2_arm_1_sz0  1.016785  1.242893  0.954649  66.216167   \n",
      "34          32  ID32__day3_arm_1_sz1  1.008867  0.070180  0.195966  65.995667   \n",
      "35          32  ID32__day3_arm_1_sz1  1.009554  0.222872  0.229909  63.871000   \n",
      "58          32  ID32__day3_arm_1_sz0  1.008873 -0.550857  0.177822  67.750833   \n",
      "79          32  ID32__day3_arm_1_sz0  1.026840  0.355953  0.205273  69.124667   \n",
      "\n",
      "    TEMP_mean  ACC_stdev   BVP_stdev  EDA_stdev  ...  BVP_50th  EDA_50th  \\\n",
      "5   36.944833   0.007469   36.486091   0.003905  ...     1.815  0.112710   \n",
      "6   36.676333   0.028190   84.964155   0.018598  ...     2.210  0.131921   \n",
      "7   38.600333   0.003747   64.194294   0.024278  ...     6.985  0.186026   \n",
      "8   39.296083   0.035257  165.665784   0.891139  ...     1.140  1.062333   \n",
      "9   34.656667   0.022648   77.013336   0.132008  ...     3.800  0.142159   \n",
      "10  34.678000   0.046047  146.515297   0.438236  ...     5.585  1.690537   \n",
      "27  38.467417   0.019826   51.176639   0.014530  ...     7.765  0.124259   \n",
      "28  38.448000   0.077142   61.205657   0.156170  ...     3.290  0.510114   \n",
      "29  37.681583   0.006805   40.982246   0.017099  ...     1.455  0.202632   \n",
      "30  37.979500   0.032493  219.277839   0.612229  ...    -5.785  1.028171   \n",
      "34  40.659458   0.021812   49.981175   0.013259  ...     3.480  0.198570   \n",
      "35  40.481333   0.048531   37.409681   0.031963  ...     0.695  0.228677   \n",
      "58  39.906667   0.021431   27.472002   0.003085  ...     1.955  0.178073   \n",
      "79  34.490167   0.008165   40.742936   0.003550  ...     3.090  0.206207   \n",
      "\n",
      "    HR_50th  TEMP_50th  ACC_75th  BVP_75th  EDA_75th  HR_75th  TEMP_75th  \\\n",
      "5    65.060      36.95  1.029947   16.3725  0.115591  65.8175     36.990   \n",
      "6    62.175      36.81  1.029947   21.1625  0.147611  66.2100     36.840   \n",
      "7    61.840      38.61  1.006085   43.8850  0.209086  61.9000     38.790   \n",
      "8    62.325      39.37  1.008872   49.4325  2.313129  71.0625     39.390   \n",
      "9    56.110      34.66  0.996821   35.2700  0.176739  56.6050     34.660   \n",
      "10   65.790      34.66  1.021497   70.4800  1.998868  67.7725     34.735   \n",
      "27   53.960      38.49  1.002073   39.8525  0.133226  54.7425     38.500   \n",
      "28   65.285      38.45  1.014302   25.4625  0.577047  69.4975     38.530   \n",
      "29   61.910      37.68  1.022811   29.2125  0.219282  61.9300     37.750   \n",
      "30   64.700      38.00  1.022811   65.5000  1.503002  69.5725     38.030   \n",
      "34   66.145      40.68  1.013700   13.1300  0.199852  67.0425     40.710   \n",
      "35   64.395      40.49  1.016106   12.9650  0.260383  65.9625     40.530   \n",
      "58   68.170      39.93  1.015264   17.8625  0.179354  68.5725     40.030   \n",
      "79   69.810      34.37  1.033260   13.4550  0.207488  70.0000     34.680   \n",
      "\n",
      "    label  \n",
      "5     0.0  \n",
      "6     0.0  \n",
      "7     0.0  \n",
      "8     0.0  \n",
      "9     0.0  \n",
      "10    0.0  \n",
      "27    0.0  \n",
      "28    0.0  \n",
      "29    0.0  \n",
      "30    0.0  \n",
      "34    0.0  \n",
      "35    0.0  \n",
      "58    0.0  \n",
      "79    0.0  \n",
      "\n",
      "[14 rows x 48 columns]\n"
     ]
    }
   ],
   "source": [
    "import pandas as pd\n",
    "import numpy as np\n",
    "\n",
    "df = pd.read_csv('data/seizure_data.csv')\n",
    "print(df[df['patient ID'] == 32])"
   ]
  },
  {
   "cell_type": "code",
   "execution_count": 3,
   "id": "b3466b68",
   "metadata": {
    "slideshow": {
     "slide_type": "subslide"
    }
   },
   "outputs": [
    {
     "name": "stdout",
     "output_type": "stream",
     "text": [
      "[0. 1.] [ 86 190]\n",
      "balance: 0.6884057971014492\n"
     ]
    }
   ],
   "source": [
    "y = df['label']\n",
    "patient_ID = df['patient ID']\n",
    "seizure_ID = df['seizure_ID']\n",
    "X = df.drop(columns=['patient ID','seizure_ID','label'])\n",
    "classes, counts = np.unique(y,return_counts=True)\n",
    "print(classes, counts)\n",
    "print('balance:',np.max(counts/len(y)))"
   ]
  },
  {
   "cell_type": "code",
   "execution_count": 4,
   "id": "c9392b07",
   "metadata": {
    "slideshow": {
     "slide_type": "subslide"
    }
   },
   "outputs": [],
   "source": [
    "from sklearn.svm import SVC\n",
    "from sklearn.metrics import accuracy_score\n",
    "from sklearn.model_selection import StratifiedKFold\n",
    "from sklearn.model_selection import train_test_split \n",
    "from sklearn.preprocessing import StandardScaler\n",
    "from sklearn.pipeline import make_pipeline\n",
    "from sklearn.model_selection import KFold\n",
    "from sklearn.model_selection import GridSearchCV\n",
    "from sklearn.metrics import make_scorer\n",
    "\n",
    "def ML_pipeline_kfold_GridSearchCV(X,y,random_state,n_folds):\n",
    "    # create a test set\n",
    "    X_other, X_test, y_other, y_test = train_test_split(X, y, test_size=0.2, random_state = random_state,stratify=y)\n",
    "    # splitter for _other\n",
    "    kf = StratifiedKFold(n_splits=n_folds,shuffle=True,random_state=random_state)\n",
    "    # create the pipeline: preprocessor + supervised ML method\n",
    "    scaler = StandardScaler()\n",
    "    pipe = make_pipeline(scaler,SVC())\n",
    "    # the parameter(s) we want to tune\n",
    "    param_grid = {'svc__C': np.logspace(-3,4,num=8),'svc__gamma': np.logspace(-3,4,num=8)}\n",
    "    # prepare gridsearch\n",
    "    grid = GridSearchCV(pipe, param_grid=param_grid,scoring = make_scorer(accuracy_score),\n",
    "                        cv=kf, return_train_score = True)\n",
    "    # do kfold CV on _other\n",
    "    grid.fit(X_other, y_other)\n",
    "    return grid, grid.score(X_test, y_test)"
   ]
  },
  {
   "cell_type": "code",
   "execution_count": 5,
   "id": "448c40e5",
   "metadata": {
    "slideshow": {
     "slide_type": "subslide"
    }
   },
   "outputs": [
    {
     "name": "stdout",
     "output_type": "stream",
     "text": [
      "{'svc__C': 1.0, 'svc__gamma': 0.01}\n",
      "best CV score: 0.9227272727272726\n",
      "test score: 0.9285714285714286\n",
      "{'svc__C': 10.0, 'svc__gamma': 0.01}\n",
      "best CV score: 0.9363636363636363\n",
      "test score: 0.9285714285714286\n",
      "{'svc__C': 10.0, 'svc__gamma': 0.01}\n",
      "best CV score: 0.9045454545454547\n",
      "test score: 0.9464285714285714\n",
      "{'svc__C': 10.0, 'svc__gamma': 0.01}\n",
      "best CV score: 0.9\n",
      "test score: 0.9285714285714286\n",
      "{'svc__C': 10.0, 'svc__gamma': 0.01}\n",
      "best CV score: 0.9363636363636363\n",
      "test score: 0.9107142857142857\n",
      "test accuracy: 0.93 +/- 0.01\n"
     ]
    }
   ],
   "source": [
    "test_scores = []\n",
    "for i in range(5):\n",
    "    grid, test_score = ML_pipeline_kfold_GridSearchCV(X,y,i*42,5)\n",
    "    print(grid.best_params_)\n",
    "    print('best CV score:',grid.best_score_)\n",
    "    print('test score:',test_score)\n",
    "    test_scores.append(test_score)\n",
    "print('test accuracy:',np.around(np.mean(test_scores),2),'+/-',np.around(np.std(test_scores),2))"
   ]
  },
  {
   "attachments": {},
   "cell_type": "markdown",
   "id": "b148a7df",
   "metadata": {
    "slideshow": {
     "slide_type": "subslide"
    }
   },
   "source": [
    "## This is wrong! A very bad case of data leakage!\n",
    "- the textbook case of information leakage!\n",
    "- if we just do KFold CV blindly, the points from the same patient end up in different sets\n",
    "   - when you deploy the model and apply it to data from new patients, that patient's data will be seen for the first time\n",
    "- the ML pipeline needs to mimic the intended use of the model!\n",
    "   - we want to split the points based on the patient ID!\n",
    "   - we want all points from the same patient to be in either train/CV/test"
   ]
  },
  {
   "attachments": {},
   "cell_type": "markdown",
   "id": "6fe4e97f",
   "metadata": {
    "slideshow": {
     "slide_type": "subslide"
    }
   },
   "source": [
    "## Group-based split: GroupKFold\n",
    "<center><img src=\"figures/groupkfold.png\" width=\"600\"></center>\n"
   ]
  },
  {
   "cell_type": "code",
   "execution_count": 6,
   "id": "6f8382fc",
   "metadata": {
    "slideshow": {
     "slide_type": "subslide"
    }
   },
   "outputs": [],
   "source": [
    "from sklearn.model_selection import GroupKFold\n",
    "from sklearn.model_selection import GroupShuffleSplit\n",
    "def ML_pipeline_groups_GridSearchCV(X,y,groups,random_state,n_folds):\n",
    "    # create a test set based on groups\n",
    "    splitter = GroupShuffleSplit(n_splits=1,test_size=0.2,random_state=random_state)\n",
    "    for i_other,i_test in splitter.split(X, y, groups):\n",
    "        X_other, y_other, groups_other = X.iloc[i_other], y.iloc[i_other], groups.iloc[i_other]\n",
    "        X_test, y_test, groups_test = X.iloc[i_test], y.iloc[i_test], groups.iloc[i_test]\n",
    "    # check the split\n",
    "#     print(pd.unique(groups))\n",
    "#     print(pd.unique(groups_other))\n",
    "#     print(pd.unique(groups_test))\n",
    "    # splitter for _other\n",
    "    kf = GroupKFold(n_splits=n_folds)\n",
    "    # create the pipeline: preprocessor + supervised ML method\n",
    "    scaler = StandardScaler()\n",
    "    pipe = make_pipeline(scaler,SVC())\n",
    "    # the parameter(s) we want to tune\n",
    "    param_grid = {'svc__C': np.logspace(-3,4,num=8),'svc__gamma': np.logspace(-3,4,num=8)}\n",
    "    # prepare gridsearch\n",
    "    grid = GridSearchCV(pipe, param_grid=param_grid,scoring = make_scorer(accuracy_score),\n",
    "                        cv=kf, return_train_score = True)\n",
    "    # do kfold CV on _other\n",
    "    grid.fit(X_other, y_other, groups=groups_other)\n",
    "    return grid, grid.score(X_test, y_test)"
   ]
  },
  {
   "cell_type": "code",
   "execution_count": 7,
   "id": "58b547af",
   "metadata": {
    "slideshow": {
     "slide_type": "subslide"
    }
   },
   "outputs": [
    {
     "name": "stdout",
     "output_type": "stream",
     "text": [
      "{'svc__C': 10.0, 'svc__gamma': 0.001}\n",
      "best CV score: 0.7609139784946237\n",
      "test score: 0.6410256410256411\n",
      "{'svc__C': 0.1, 'svc__gamma': 0.01}\n",
      "best CV score: 0.6522727272727272\n",
      "test score: 0.2711864406779661\n",
      "{'svc__C': 10.0, 'svc__gamma': 0.001}\n",
      "best CV score: 0.5720073891625616\n",
      "test score: 0.9390243902439024\n",
      "{'svc__C': 10.0, 'svc__gamma': 0.001}\n",
      "best CV score: 0.7061742424242425\n",
      "test score: 0.43243243243243246\n",
      "{'svc__C': 10000.0, 'svc__gamma': 0.001}\n",
      "best CV score: 0.6082407407407406\n",
      "test score: 0.8901098901098901\n",
      "test accuracy: 0.63 +/- 0.26\n"
     ]
    }
   ],
   "source": [
    "test_scores = []\n",
    "for i in range(5):\n",
    "    grid, test_score = ML_pipeline_groups_GridSearchCV(X,y,patient_ID,i*42,5)\n",
    "    print(grid.best_params_)\n",
    "    print('best CV score:',grid.best_score_)\n",
    "    print('test score:',test_score)\n",
    "    test_scores.append(test_score)\n",
    "print('test accuracy:',np.around(np.mean(test_scores),2),'+/-',np.around(np.std(test_scores),2))"
   ]
  },
  {
   "attachments": {},
   "cell_type": "markdown",
   "id": "9d500fb2",
   "metadata": {
    "slideshow": {
     "slide_type": "subslide"
    }
   },
   "source": [
    "## The takeaway\n",
    "- an incorrect cross validation pipeline gives misleading results\n",
    "   - usually the model appears to be pretty accurate\n",
    "   - but the performance is poor when the model is deployed\n",
    "- this can be avoided by a careful cross validation pipeline\n",
    "   - think about how your model will be used\n",
    "   - mimic that future use in CV"
   ]
  },
  {
   "attachments": {},
   "cell_type": "markdown",
   "id": "bb4186b3",
   "metadata": {},
   "source": [
    "# Let's take a look at group splitters using toy datasets"
   ]
  },
  {
   "attachments": {},
   "cell_type": "markdown",
   "id": "278e8d42",
   "metadata": {},
   "source": [
    "## Group-based split: GroupKFold\n",
    "<center><img src=\"figures/groupkfold.png\" width=\"600\"></center>\n"
   ]
  },
  {
   "cell_type": "code",
   "execution_count": 13,
   "id": "d6975330",
   "metadata": {},
   "outputs": [
    {
     "name": "stdout",
     "output_type": "stream",
     "text": [
      "TRAIN: [2 3 4] TEST: [0 1 5 6 7]\n",
      "TRAIN: [0 1 5 6 7] TEST: [2 3 4]\n"
     ]
    }
   ],
   "source": [
    "from sklearn.model_selection import GroupKFold\n",
    "import numpy as np\n",
    "\n",
    "X = np.ones(shape=(8, 2))\n",
    "y = np.ones(shape=(8, 1))\n",
    "groups = np.array([1, 1, 2, 2, 2, 3, 3, 3])\n",
    "\n",
    "group_kfold = GroupKFold(n_splits=2)\n",
    "\n",
    "for train_index, test_index in group_kfold.split(X, y, groups):\n",
    "    print(\"TRAIN:\", train_index, \"TEST:\", test_index)\n"
   ]
  },
  {
   "cell_type": "code",
   "execution_count": 9,
   "id": "25193531",
   "metadata": {},
   "outputs": [
    {
     "name": "stdout",
     "output_type": "stream",
     "text": [
      "Help on class GroupKFold in module sklearn.model_selection._split:\n",
      "\n",
      "class GroupKFold(GroupsConsumerMixin, _BaseKFold)\n",
      " |  GroupKFold(n_splits=5)\n",
      " |  \n",
      " |  K-fold iterator variant with non-overlapping groups.\n",
      " |  \n",
      " |  Each group will appear exactly once in the test set across all folds (the\n",
      " |  number of distinct groups has to be at least equal to the number of folds).\n",
      " |  \n",
      " |  The folds are approximately balanced in the sense that the number of\n",
      " |  distinct groups is approximately the same in each fold.\n",
      " |  \n",
      " |  Read more in the :ref:`User Guide <group_k_fold>`.\n",
      " |  \n",
      " |  Parameters\n",
      " |  ----------\n",
      " |  n_splits : int, default=5\n",
      " |      Number of folds. Must be at least 2.\n",
      " |  \n",
      " |      .. versionchanged:: 0.22\n",
      " |          ``n_splits`` default value changed from 3 to 5.\n",
      " |  \n",
      " |  Notes\n",
      " |  -----\n",
      " |  Groups appear in an arbitrary order throughout the folds.\n",
      " |  \n",
      " |  Examples\n",
      " |  --------\n",
      " |  >>> import numpy as np\n",
      " |  >>> from sklearn.model_selection import GroupKFold\n",
      " |  >>> X = np.array([[1, 2], [3, 4], [5, 6], [7, 8], [9, 10], [11, 12]])\n",
      " |  >>> y = np.array([1, 2, 3, 4, 5, 6])\n",
      " |  >>> groups = np.array([0, 0, 2, 2, 3, 3])\n",
      " |  >>> group_kfold = GroupKFold(n_splits=2)\n",
      " |  >>> group_kfold.get_n_splits(X, y, groups)\n",
      " |  2\n",
      " |  >>> print(group_kfold)\n",
      " |  GroupKFold(n_splits=2)\n",
      " |  >>> for i, (train_index, test_index) in enumerate(group_kfold.split(X, y, groups)):\n",
      " |  ...     print(f\"Fold {i}:\")\n",
      " |  ...     print(f\"  Train: index={train_index}, group={groups[train_index]}\")\n",
      " |  ...     print(f\"  Test:  index={test_index}, group={groups[test_index]}\")\n",
      " |  Fold 0:\n",
      " |    Train: index=[2 3], group=[2 2]\n",
      " |    Test:  index=[0 1 4 5], group=[0 0 3 3]\n",
      " |  Fold 1:\n",
      " |    Train: index=[0 1 4 5], group=[0 0 3 3]\n",
      " |    Test:  index=[2 3], group=[2 2]\n",
      " |  \n",
      " |  See Also\n",
      " |  --------\n",
      " |  LeaveOneGroupOut : For splitting the data according to explicit\n",
      " |      domain-specific stratification of the dataset.\n",
      " |  \n",
      " |  StratifiedKFold : Takes class information into account to avoid building\n",
      " |      folds with imbalanced class proportions (for binary or multiclass\n",
      " |      classification tasks).\n",
      " |  \n",
      " |  Method resolution order:\n",
      " |      GroupKFold\n",
      " |      GroupsConsumerMixin\n",
      " |      _BaseKFold\n",
      " |      BaseCrossValidator\n",
      " |      sklearn.utils._metadata_requests._MetadataRequester\n",
      " |      builtins.object\n",
      " |  \n",
      " |  Methods defined here:\n",
      " |  \n",
      " |  __init__(self, n_splits=5)\n",
      " |      Initialize self.  See help(type(self)) for accurate signature.\n",
      " |  \n",
      " |  set_split_request(self: sklearn.model_selection._split.GroupKFold, *, groups: Union[bool, NoneType, str] = '$UNCHANGED$') -> sklearn.model_selection._split.GroupKFold\n",
      " |      Request metadata passed to the ``split`` method.\n",
      " |      \n",
      " |      Note that this method is only relevant if\n",
      " |      ``enable_metadata_routing=True`` (see :func:`sklearn.set_config`).\n",
      " |      Please see :ref:`User Guide <metadata_routing>` on how the routing\n",
      " |      mechanism works.\n",
      " |      \n",
      " |      The options for each parameter are:\n",
      " |      \n",
      " |      - ``True``: metadata is requested, and passed to ``split`` if provided. The request is ignored if metadata is not provided.\n",
      " |      \n",
      " |      - ``False``: metadata is not requested and the meta-estimator will not pass it to ``split``.\n",
      " |      \n",
      " |      - ``None``: metadata is not requested, and the meta-estimator will raise an error if the user provides it.\n",
      " |      \n",
      " |      - ``str``: metadata should be passed to the meta-estimator with this given alias instead of the original name.\n",
      " |      \n",
      " |      The default (``sklearn.utils.metadata_routing.UNCHANGED``) retains the\n",
      " |      existing request. This allows you to change the request for some\n",
      " |      parameters and not others.\n",
      " |      \n",
      " |      .. versionadded:: 1.3\n",
      " |      \n",
      " |      .. note::\n",
      " |          This method is only relevant if this estimator is used as a\n",
      " |          sub-estimator of a meta-estimator, e.g. used inside a\n",
      " |          :class:`pipeline.Pipeline`. Otherwise it has no effect.\n",
      " |      \n",
      " |      Parameters\n",
      " |      ----------\n",
      " |      groups : str, True, False, or None,                     default=sklearn.utils.metadata_routing.UNCHANGED\n",
      " |          Metadata routing for ``groups`` parameter in ``split``.\n",
      " |      \n",
      " |      Returns\n",
      " |      -------\n",
      " |      self : object\n",
      " |          The updated object.\n",
      " |  \n",
      " |  split(self, X, y=None, groups=None)\n",
      " |      Generate indices to split data into training and test set.\n",
      " |      \n",
      " |      Parameters\n",
      " |      ----------\n",
      " |      X : array-like of shape (n_samples, n_features)\n",
      " |          Training data, where `n_samples` is the number of samples\n",
      " |          and `n_features` is the number of features.\n",
      " |      \n",
      " |      y : array-like of shape (n_samples,), default=None\n",
      " |          The target variable for supervised learning problems.\n",
      " |      \n",
      " |      groups : array-like of shape (n_samples,)\n",
      " |          Group labels for the samples used while splitting the dataset into\n",
      " |          train/test set.\n",
      " |      \n",
      " |      Yields\n",
      " |      ------\n",
      " |      train : ndarray\n",
      " |          The training set indices for that split.\n",
      " |      \n",
      " |      test : ndarray\n",
      " |          The testing set indices for that split.\n",
      " |  \n",
      " |  ----------------------------------------------------------------------\n",
      " |  Data and other attributes defined here:\n",
      " |  \n",
      " |  __abstractmethods__ = frozenset()\n",
      " |  \n",
      " |  ----------------------------------------------------------------------\n",
      " |  Methods inherited from _BaseKFold:\n",
      " |  \n",
      " |  get_n_splits(self, X=None, y=None, groups=None)\n",
      " |      Returns the number of splitting iterations in the cross-validator\n",
      " |      \n",
      " |      Parameters\n",
      " |      ----------\n",
      " |      X : object\n",
      " |          Always ignored, exists for compatibility.\n",
      " |      \n",
      " |      y : object\n",
      " |          Always ignored, exists for compatibility.\n",
      " |      \n",
      " |      groups : object\n",
      " |          Always ignored, exists for compatibility.\n",
      " |      \n",
      " |      Returns\n",
      " |      -------\n",
      " |      n_splits : int\n",
      " |          Returns the number of splitting iterations in the cross-validator.\n",
      " |  \n",
      " |  ----------------------------------------------------------------------\n",
      " |  Methods inherited from BaseCrossValidator:\n",
      " |  \n",
      " |  __repr__(self)\n",
      " |      Return repr(self).\n",
      " |  \n",
      " |  ----------------------------------------------------------------------\n",
      " |  Methods inherited from sklearn.utils._metadata_requests._MetadataRequester:\n",
      " |  \n",
      " |  get_metadata_routing(self)\n",
      " |      Get metadata routing of this object.\n",
      " |      \n",
      " |      Please check :ref:`User Guide <metadata_routing>` on how the routing\n",
      " |      mechanism works.\n",
      " |      \n",
      " |      Returns\n",
      " |      -------\n",
      " |      routing : MetadataRequest\n",
      " |          A :class:`~utils.metadata_routing.MetadataRequest` encapsulating\n",
      " |          routing information.\n",
      " |  \n",
      " |  ----------------------------------------------------------------------\n",
      " |  Class methods inherited from sklearn.utils._metadata_requests._MetadataRequester:\n",
      " |  \n",
      " |  __init_subclass__(**kwargs) from abc.ABCMeta\n",
      " |      Set the ``set_{method}_request`` methods.\n",
      " |      \n",
      " |      This uses PEP-487 [1]_ to set the ``set_{method}_request`` methods. It\n",
      " |      looks for the information available in the set default values which are\n",
      " |      set using ``__metadata_request__*`` class attributes, or inferred\n",
      " |      from method signatures.\n",
      " |      \n",
      " |      The ``__metadata_request__*`` class attributes are used when a method\n",
      " |      does not explicitly accept a metadata through its arguments or if the\n",
      " |      developer would like to specify a request value for those metadata\n",
      " |      which are different from the default ``None``.\n",
      " |      \n",
      " |      References\n",
      " |      ----------\n",
      " |      .. [1] https://www.python.org/dev/peps/pep-0487\n",
      " |  \n",
      " |  ----------------------------------------------------------------------\n",
      " |  Data descriptors inherited from sklearn.utils._metadata_requests._MetadataRequester:\n",
      " |  \n",
      " |  __dict__\n",
      " |      dictionary for instance variables (if defined)\n",
      " |  \n",
      " |  __weakref__\n",
      " |      list of weak references to the object (if defined)\n",
      "\n"
     ]
    }
   ],
   "source": [
    "help(GroupKFold)"
   ]
  },
  {
   "attachments": {},
   "cell_type": "markdown",
   "id": "2cd8c4ae",
   "metadata": {},
   "source": [
    "## Group-based split: GroupShuffleSplit\n",
    "<center><img src=\"figures/groupshufflesplit.png\" width=\"600\"></center>\n"
   ]
  },
  {
   "cell_type": "code",
   "execution_count": 11,
   "id": "93d4011c",
   "metadata": {},
   "outputs": [
    {
     "name": "stdout",
     "output_type": "stream",
     "text": [
      "TRAIN: [0 1 2 3 4] TEST: [5 6 7]\n",
      "TRAIN: [0 1 2 3 4] TEST: [5 6 7]\n",
      "TRAIN: [2 3 4 5 6 7] TEST: [0 1]\n",
      "TRAIN: [0 1 2 3 4] TEST: [5 6 7]\n",
      "TRAIN: [0 1 2 3 4] TEST: [5 6 7]\n",
      "TRAIN: [0 1 5 6 7] TEST: [2 3 4]\n",
      "TRAIN: [0 1 5 6 7] TEST: [2 3 4]\n",
      "TRAIN: [2 3 4 5 6 7] TEST: [0 1]\n",
      "TRAIN: [2 3 4 5 6 7] TEST: [0 1]\n",
      "TRAIN: [0 1 5 6 7] TEST: [2 3 4]\n"
     ]
    }
   ],
   "source": [
    "from sklearn.model_selection import GroupShuffleSplit\n",
    "\n",
    "gss = GroupShuffleSplit(n_splits=10, train_size=.8, random_state=0)\n",
    "\n",
    "for train_idx, test_idx in gss.split(X, y, groups):\n",
    "    print(\"TRAIN:\", train_idx, \"TEST:\", test_idx)\n"
   ]
  },
  {
   "attachments": {},
   "cell_type": "markdown",
   "id": "5435e478",
   "metadata": {},
   "source": [
    "## Quiz 1\n",
    "Go back to the GroupKFold example above. What happens when you change n_splits to 4? Why?\n",
    "\n",
    "Why could we set the n_splits argument to 5 in GroupShuffleSplit? Check the manual of both methods to find the answer.\n",
    "\n",
    "Explain your answer in a couple of sentences!"
   ]
  },
  {
   "attachments": {},
   "cell_type": "markdown",
   "id": "13acf072",
   "metadata": {},
   "source": [
    "# <font color='lightgray'>Split non-iid data</font>\n",
    "<font color='lightgray'>By the end of this lecture, you will be able to</font>\n",
    "- <font color='lightgray'>split non-iid data based on group ID</font>\n",
    "- **split non-iid time series data**\n"
   ]
  },
  {
   "attachments": {},
   "cell_type": "markdown",
   "id": "9de04084",
   "metadata": {
    "slideshow": {
     "slide_type": "subslide"
    }
   },
   "source": [
    "## Data leakage in time series data is similar!\n",
    "- do NOT use information in CV which will not be available once your model is deployed\n",
    "   - don't use future information!\n",
    "   \n",
    "<center><img src=\"figures/timeseriessplit.png\" width=\"600\"></center>\n"
   ]
  },
  {
   "attachments": {},
   "cell_type": "markdown",
   "id": "f03a6ade",
   "metadata": {},
   "source": [
    "## Time series data\n",
    "- stock price, crypto price, covid-19 positive case counts, etc\n",
    "- simple data structure:\n",
    "\n",
    "| time | observation | \n",
    "| - | :-: |\n",
    "| t_0 | y_0 |\n",
    "| t_1 | y_1 |\n",
    "| t_2 | y_2 |\n",
    "| ... | ... |\n",
    "| t_i | y_i |\n",
    "| ... | ... |\n",
    "| t_n-1 | y_n-1 |\n",
    "| t_n | y_n |\n",
    "\n",
    "- assumption:\n",
    "    - the difference between two time points (dt) is constant \n",
    "    - e.g., 1 minute, 5 minutes, 1 hour, or 1 day"
   ]
  },
  {
   "attachments": {},
   "cell_type": "markdown",
   "id": "68776dc8",
   "metadata": {},
   "source": [
    "## Autocorrelation\n",
    "- the correlation of the time series data with a delayed copy of itself\n",
    "- delay on the x axis, correlation coefficient on the y axis\n",
    "- if delay = 0, the correlation coefficient is 1\n",
    "- if the delay is short, autocorrelation can be high\n",
    "- autocorrelation tends to subside for longer delays\n",
    "- let's check an example"
   ]
  },
  {
   "cell_type": "code",
   "execution_count": 14,
   "id": "91e131ef",
   "metadata": {},
   "outputs": [
    {
     "name": "stdout",
     "output_type": "stream",
     "text": [
      "(3650, 2)\n",
      "         Date  Temp\n",
      "0  1981-01-01  20.7\n",
      "1  1981-01-02  17.9\n",
      "2  1981-01-03  18.8\n",
      "3  1981-01-04  14.6\n",
      "4  1981-01-05  15.8\n"
     ]
    },
    {
     "data": {
      "image/png": "[encoded data removed]",
      "text/plain": [
       "<Figure size 640x480 with 1 Axes>"
      ]
     },
     "metadata": {},
     "output_type": "display_data"
    }
   ],
   "source": [
    "import pandas as pd\n",
    "import matplotlib.pyplot as plt\n",
    "import matplotlib\n",
    "import numpy as np\n",
    "\n",
    "df = pd.read_csv('data/daily-min-temperatures.csv')\n",
    "print(df.shape)\n",
    "print(df.head())\n",
    "\n",
    "plt.plot(df['Temp'])\n",
    "plt.xticks(np.arange(len(df['Date']))[::365],df['Date'].iloc[::365],rotation=90)\n",
    "plt.xlabel('date')\n",
    "plt.ylabel('temperature [C]')\n",
    "plt.tight_layout()\n",
    "plt.show()\n"
   ]
  },
  {
   "cell_type": "code",
   "execution_count": 16,
   "id": "8cc6a4d5",
   "metadata": {},
   "outputs": [
    {
     "name": "stdout",
     "output_type": "stream",
     "text": [
      "[0.99972603 0.77446147 0.63057611 0.58570362 0.5780733  0.57758888\n",
      " 0.57542059 0.57472479 0.56812066 0.56190417]\n"
     ]
    },
    {
     "data": {
      "image/png": "[encoded data removed]",
      "text/plain": [
       "<Figure size 640x480 with 1 Axes>"
      ]
     },
     "metadata": {},
     "output_type": "display_data"
    },
    {
     "data": {
      "image/png": "[encoded data removed]",
      "text/plain": [
       "<Figure size 640x480 with 1 Axes>"
      ]
     },
     "metadata": {},
     "output_type": "display_data"
    }
   ],
   "source": [
    "# let's create an autocorrelation plot\n",
    "\n",
    "lags = np.arange(3650)\n",
    "corr_coefs = np.zeros(3650)\n",
    "\n",
    "for i in np.arange(len(lags)):\n",
    "    x = df['Temp'].iloc[i:-1].reset_index(drop=True) # recent observations  \n",
    "    y = df['Temp'].iloc[:-i-1].reset_index(drop=True) # lag-shifted observations\n",
    "    # the shapes must be the same\n",
    "    if x.shape != y.shape:\n",
    "        raise ValueError('shape mismatch!')\n",
    "    # Pearson correlation multiplied by the fraction of time series used\n",
    "    corr_coefs[i] = x.corr(y,method='pearson')*x.shape[0]/df['Temp'].shape[0]\n",
    "print(corr_coefs[:10])\n",
    "\n",
    "plt.plot(lags[2:],corr_coefs[2:])\n",
    "plt.ylim([-1,1])\n",
    "plt.xlabel('lag [days]')\n",
    "plt.ylabel('Pearson correlation coefficient')\n",
    "plt.title('my figure')\n",
    "plt.tight_layout()\n",
    "plt.show()\n",
    "\n",
    "# a one-liner\n",
    "pd.plotting.autocorrelation_plot(df['Temp'])\n",
    "plt.title(\"pandas's autocorrelation plot\")\n",
    "plt.tight_layout()\n",
    "plt.show()"
   ]
  },
  {
   "cell_type": "code",
   "execution_count": 25,
   "id": "b58636b9",
   "metadata": {},
   "outputs": [
    {
     "name": "stdout",
     "output_type": "stream",
     "text": [
      "0\n",
      "For lag 1:\n",
      "x: 1, 2, 3, 4, 5, 6, 7, 8, 9\n",
      "y: 1, 2, 3, 4, 5, 6, 7, 8, 9\n",
      "\n",
      "\n",
      "1\n",
      "For lag 2:\n",
      "x: 2, 3, 4, 5, 6, 7, 8, 9\n",
      "y: 1, 2, 3, 4, 5, 6, 7, 8\n",
      "\n",
      "\n",
      "2\n",
      "For lag 3:\n",
      "x: 3, 4, 5, 6, 7, 8, 9\n",
      "y: 1, 2, 3, 4, 5, 6, 7\n",
      "\n",
      "\n"
     ]
    }
   ],
   "source": [
    "df = pd.DataFrame({\n",
    "    'Temp': [1, 2, 3, 4, 5, 6, 7, 8, 9, 10]\n",
    "})\n",
    "\n",
    "lags = [1, 2, 3]\n",
    "\n",
    "for i in np.arange(len(lags)):\n",
    "    print(i)\n",
    "    x = df['Temp'].iloc[i:-1].reset_index(drop=True)  # recent observations\n",
    "    y = df['Temp'].iloc[:-i-1].reset_index(drop=True)  # lag-shifted observations\n",
    "    \n",
    "    print(f\"For lag {lags[i]}:\")\n",
    "    print(\"x: \", end=\"\")\n",
    "    print(*x.tolist(), sep=\", \")\n",
    "    print(\"y: \", end=\"\")\n",
    "    print(*y.tolist(), sep=\", \")\n",
    "    print(\"\\n\")"
   ]
  },
  {
   "attachments": {},
   "cell_type": "markdown",
   "id": "d2ef92d9",
   "metadata": {},
   "source": [
    "# Autoregression: create feature matrix using lag features\n",
    "- goal:\n",
    "    - predict what y will be dt in the future\n",
    "- the target variable and lag features:\n",
    "\n",
    "| feature_1     | feature_2 \t| ... | feature_m-1 | feature m | <font color='red'>target variable</font>|\n",
    "| - | :-: | :-: | :-: |:-: |:-: |\n",
    "|     y_0       |    y_1      \t| ... | y_m-1   \t| y_m\t    | <font color='red'>y_m+1</font>|\n",
    "|     y_1       |    y_2      \t| ... | y_m   \t    | y_m+1\t    | <font color='red'>y_m+2</font>|\n",
    "|     ...       |    ...      \t| ... | ...     \t| ...\t    | <font color='red'>...</font>  |\n",
    "|     y_i-m     |    y_i-m+1   \t| ... | y_i-2   \t| y_i-1\t    | <font color='red'>y_i</font>\t|\n",
    "|     ...       |    ...      \t| ... | ...     \t| ...\t    | <font color='red'>...</font>\t|\n",
    "|     y_n-m     |    y_n-m+1   \t| ... | y_n-2   \t| y_n-1\t    | <font color='red'>y_n</font>\t|\n",
    "\n",
    "- the features are shifted with respect to the original observation with a dt lag\n",
    "- this feature matrix should still be split based on time (e.g., older observations in train, most recent observations in test)"
   ]
  },
  {
   "cell_type": "code",
   "execution_count": 12,
   "id": "8f46b819",
   "metadata": {},
   "outputs": [
    {
     "name": "stdout",
     "output_type": "stream",
     "text": [
      "      lag 3 days  lag 2 days  lag 1 day\n",
      "3640        14.7        15.4       13.1\n",
      "3641        15.4        13.1       13.2\n",
      "3642        13.1        13.2       13.9\n",
      "3643        13.2        13.9       10.0\n",
      "3644        13.9        10.0       12.9\n",
      "3645        10.0        12.9       14.6\n",
      "3646        12.9        14.6       14.0\n",
      "3647        14.6        14.0       13.6\n",
      "3648        14.0        13.6       13.5\n",
      "3649        13.6        13.5       15.7\n",
      "3640    13.2\n",
      "3641    13.9\n",
      "3642    10.0\n",
      "3643    12.9\n",
      "3644    14.6\n",
      "3645    14.0\n",
      "3646    13.6\n",
      "3647    13.5\n",
      "3648    15.7\n",
      "3649    13.0\n",
      "Name: Temp, dtype: float64\n"
     ]
    }
   ],
   "source": [
    "y = df['Temp']\n",
    "X = pd.concat([df['Temp'].shift(3),df['Temp'].shift(2),df['Temp'].shift(1)],axis=1)\n",
    "X.columns = ['lag 3 days','lag 2 days','lag 1 day']\n",
    "print(X.tail(10))\n",
    "print(y.tail(10))"
   ]
  },
  {
   "attachments": {},
   "cell_type": "markdown",
   "id": "4499a526",
   "metadata": {},
   "source": [
    "## Things to consider\n",
    "- lag between the target variable and feature m can be more if you want to predict the observation multiple dt's in the future\n",
    "- you might also have multiple time series to work with (prices of multiple stock, covid cases in multiple countries, etc)\n",
    "    - all of those need to be shifted by the same lag relative to the target variable\n",
    "- due to autocorrelation, the features closer in time to the target variable tend to be more predictive\n",
    "- how many features should you use?\n",
    "    - treat the number of features as a hyperparameter"
   ]
  },
  {
   "attachments": {},
   "cell_type": "markdown",
   "id": "7fee92c3",
   "metadata": {},
   "source": [
    "## Special scenarios\n",
    "- what if dt is not consant and/or each time series have its own non-uniform time?\n",
    "    - for example you try to predict crypto prices based on stock prices\n",
    "        - stock prices are available once per hour\n",
    "        - crypto prices are only available when a trade happens (i.e., some tokens are traded rarely)\n",
    "- interpolate to a uniform time grid\n",
    "    - try linear and non-linear interpolation techniques to figure out what works best\n",
    "    - check out [scipy](https://docs.scipy.org/doc/scipy/reference/tutorial/interpolate.html) for more info\n",
    "    - cubic spline interpolation usually works well\n",
    "- you might have a mix of time series and non-time series features\n",
    "    - cvs customer purchase history\n",
    "        - you know what a customer bought and when - time series part\n",
    "        - you have info on the customer (gender, race, address, etc) - non-time series part"
   ]
  },
  {
   "attachments": {},
   "cell_type": "markdown",
   "id": "549ed527",
   "metadata": {},
   "source": [
    "## Mud card"
   ]
  },
  {
   "cell_type": "code",
   "execution_count": null,
   "id": "d713c4fd",
   "metadata": {},
   "outputs": [],
   "source": []
  }
 ],
 "metadata": {
  "kernelspec": {
   "display_name": "Python 3 (ipykernel)",
   "language": "python",
   "name": "python3"
  },
  "language_info": {
   "codemirror_mode": {
    "name": "ipython",
    "version": 3
   },
   "file_extension": ".py",
   "mimetype": "text/x-python",
   "name": "python",
   "nbconvert_exporter": "python",
   "pygments_lexer": "ipython3",
   "version": "3.11.5"
  }
 },
 "nbformat": 4,
 "nbformat_minor": 5
}
